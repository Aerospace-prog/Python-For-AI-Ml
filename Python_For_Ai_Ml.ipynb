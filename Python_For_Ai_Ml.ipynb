{
  "nbformat": 4,
  "nbformat_minor": 0,
  "metadata": {
    "colab": {
      "provenance": [],
      "authorship_tag": "ABX9TyPHdw5OOPhqb9Hvx14AO6NM",
      "include_colab_link": true
    },
    "kernelspec": {
      "name": "python3",
      "display_name": "Python 3"
    },
    "language_info": {
      "name": "python"
    }
  },
  "cells": [
    {
      "cell_type": "markdown",
      "metadata": {
        "id": "view-in-github",
        "colab_type": "text"
      },
      "source": [
        "<a href=\"https://colab.research.google.com/github/Aerospace-prog/Python-For-AI-Ml/blob/main/Python_For_Ai_Ml.ipynb\" target=\"_parent\"><img src=\"https://colab.research.google.com/assets/colab-badge.svg\" alt=\"Open In Colab\"/></a>"
      ]
    },
    {
      "cell_type": "markdown",
      "source": [
        "# **Strings**"
      ],
      "metadata": {
        "id": "QIL-zArJAeci"
      }
    },
    {
      "cell_type": "markdown",
      "metadata": {
        "id": "cd3a9b60"
      },
      "source": [
        "There are three primary ways to declare strings in Python:\n",
        "\n",
        "1.  **Single Quotes (`'`)**: Useful for simple, single-line strings.\n",
        "2.  **Double Quotes (`\"`)**: Also used for simple, single-line strings. Often preferred when the string contains single quotes.\n",
        "3.  **Triple Quotes (`\"\"\"` or `'''`)**: Used for multi-line strings, which can span across multiple lines in your code. These are also commonly used for docstrings."
      ]
    },
    {
      "cell_type": "code",
      "execution_count": null,
      "metadata": {
        "colab": {
          "base_uri": "https://localhost:8080/"
        },
        "id": "TkCBfbBkAU3v",
        "outputId": "96cb09e4-901d-4f54-9e34-9f3c97f8afe9"
      },
      "outputs": [
        {
          "output_type": "stream",
          "name": "stdout",
          "text": [
            "5\n"
          ]
        }
      ],
      "source": [
        "# Kinds of string declarations\n",
        "\n",
        "str1 = 'hello'\n",
        "str2 = \"hello\"\n",
        "str3 = \"\"\"hello\n",
        "          kaise ho aap\n",
        "        \"\"\"\n",
        "\n",
        " # Note : Strings are immutable in nature\n",
        "\n",
        "\n",
        "print(len(str2)) # ==> 5\n",
        "\n"
      ]
    },
    {
      "cell_type": "markdown",
      "source": [
        "**Indexing in strings**"
      ],
      "metadata": {
        "id": "c8_EhSQyC6qT"
      }
    },
    {
      "cell_type": "markdown",
      "metadata": {
        "id": "0c945325"
      },
      "source": [
        "Indexing in strings allows you to access individual characters within a string using their position (index).\n",
        "\n",
        "*   **Positive Indexing**: Starts from 0 for the first character and increases by 1 for each subsequent character.\n",
        "*   **Negative Indexing**: Starts from -1 for the last character and decreases by 1 for each preceding character.\n",
        "\n",
        "You can access a character using square brackets `[]` with the index inside."
      ]
    },
    {
      "cell_type": "code",
      "source": [
        "# Let's assume we have a string for demonstration\n",
        "str2 = \"HelloWorld\"\n",
        "\n",
        "# str2[0:4] → Extracts characters from index 0 to 3 (end index 4 is excluded).\n",
        "# This means it will take the substring \"Hell\".\n",
        "print(str2[0:4])   # Output: Hell\n",
        "\n",
        "# str2[:] → Returns the entire string because no start or end index is given.\n",
        "# This is the same as making a copy of the string.\n",
        "print(str2[:])     # Output: HelloWorld\n",
        "\n",
        "# str2[:4] → Omits the start index (defaults to 0) and goes till index 3.\n",
        "# Equivalent to str2[0:4].\n",
        "print(str2[:4])    # Output: Hell\n",
        "\n",
        "# str2[0:] → Omits the end index (defaults to the end of the string).\n",
        "# Extracts from index 0 to the end.\n",
        "print(str2[0:])    # Output: HelloWorld"
      ],
      "metadata": {
        "colab": {
          "base_uri": "https://localhost:8080/"
        },
        "id": "srvnjYBUC_Qr",
        "outputId": "2bd46695-db58-4076-894a-971ae05c2556"
      },
      "execution_count": null,
      "outputs": [
        {
          "output_type": "stream",
          "name": "stdout",
          "text": [
            "Hell\n",
            "HelloWorld\n",
            "Hell\n",
            "HelloWorld\n"
          ]
        }
      ]
    },
    {
      "cell_type": "markdown",
      "source": [
        "**Slicing with 3 parameters - [startindex : endindex : step]**"
      ],
      "metadata": {
        "id": "O0EJ-4iHEa8y"
      }
    },
    {
      "cell_type": "code",
      "source": [
        "numStr = \"0123456789\"\n",
        "\n",
        "# Start at index 2 and take every 2nd character → indices 2,4,6,8\n",
        "print(numStr[2::2])   # Output: 2468\n",
        "\n",
        "# Start at index 1 and take every 2nd character → indices 1,3,5,7,9\n",
        "print(numStr[1::2])   # Output: 13579\n",
        "\n",
        "characterAtIndex1 = numStr[1]\n",
        "print(characterAtIndex1)\n",
        "\n",
        "#Type Checking for string\n",
        "print(type(characterAtIndex1))\n",
        "\n",
        "\n",
        "\n",
        "exampleString = \"Aerospace\"\n",
        "\n",
        "# Negative slicing counts from the end:\n",
        "# Index positions:  A   e   r   o   s   p   a   c   e\n",
        "# Positive index:   0   1   2   3   4   5   6   7   8\n",
        "# Negative index:  -9  -8  -7  -6  -5  -4  -3  -2  -1\n",
        "\n",
        "# exampleString[-6:-1] → take characters from -6 (index of 'o') up to -1 (excluded, index of 'e')\n",
        "print(exampleString[-6:-1])   # Output: ospac"
      ],
      "metadata": {
        "colab": {
          "base_uri": "https://localhost:8080/"
        },
        "id": "wHNUuzF1Enco",
        "outputId": "5a76c81d-b242-4c9a-cd66-a3bd8b1f4610"
      },
      "execution_count": null,
      "outputs": [
        {
          "output_type": "stream",
          "name": "stdout",
          "text": [
            "2468\n",
            "13579\n",
            "1\n",
            "<class 'str'>\n",
            "ospac\n"
          ]
        }
      ]
    },
    {
      "cell_type": "markdown",
      "source": [
        "**String Functions**"
      ],
      "metadata": {
        "id": "m26efZdOHZRF"
      }
    },
    {
      "cell_type": "code",
      "source": [
        "randomStr = \"polarisSchoolofTech\"\n",
        "\n",
        "# Get the total number of characters in the string\n",
        "print(len(randomStr))   # Output: 18\n",
        "\n",
        "# Capitalize the first character, rest in lowercase\n",
        "print(randomStr.capitalize())   # Output: Polarisschooloftech\n",
        "\n",
        "# Convert entire string to uppercase\n",
        "print(randomStr.upper())   # Output: POLARISSCHOOLOFTECH\n",
        "\n",
        "# Convert entire string to lowercase\n",
        "print(randomStr.lower())   # Output: polarisschooloftech\n",
        "\n",
        "# Check if string starts with \"polaris\"\n",
        "print(randomStr.startswith(\"polaris\"))   # Output: True\n",
        "\n",
        "# Check if string ends with \"techonologia\"\n",
        "print(randomStr.endswith(\"techonologia\"))   # Output: False\n",
        "\n",
        "# Convert string into Title Case (first letter of each word capitalized)\n",
        "print(randomStr.title())   # Output: Polarisschooloftech\n",
        "\n",
        "# Make only the first 7 characters uppercase\n",
        "print(randomStr[:7].upper())   # Output: POLARIS\n",
        "\n",
        "# Find index of first occurrence of substring \"School\" (-1 if not found)\n",
        "print(randomStr.find(\"School\"))   # Output: 7\n",
        "\n",
        "# Replace \"SchoolofTech\" with \"SchoolOfHack\"\n",
        "print(randomStr.replace(\"SchoolofTech\", \"SchoolOfHack\"))   # Output: polarisSchoolOfHack\n",
        "\n",
        "# Count occurrences of 'o'\n",
        "print(randomStr.count(\"o\"))   # Output: 3\n",
        "\n",
        "\n",
        "# PROBLEM : 1 - FIND ALL WHITESPACES INDEX IN WHOLE STRING :)\n",
        "\n",
        "text = \"Python is a fun programming language\"\n",
        "\n",
        "# find first whitespace\n",
        "pos = text.find(' ')\n",
        "\n",
        "while pos != -1:   # keep looping until no space is found\n",
        "    print(\"Whitespace found at index:\", pos)\n",
        "\n",
        "    # find next whitespace starting after current position\n",
        "    pos = text.find(' ', pos + 1)"
      ],
      "metadata": {
        "id": "C5On53QvHcZF",
        "colab": {
          "base_uri": "https://localhost:8080/"
        },
        "outputId": "2a1756c3-efa6-4731-eaae-6abd497d1472"
      },
      "execution_count": null,
      "outputs": [
        {
          "output_type": "stream",
          "name": "stdout",
          "text": [
            "19\n",
            "Polarisschooloftech\n",
            "POLARISSCHOOLOFTECH\n",
            "polarisschooloftech\n",
            "True\n",
            "False\n",
            "Polarisschooloftech\n",
            "POLARIS\n",
            "7\n",
            "polarisSchoolOfHack\n",
            "4\n",
            "Whitespace found at index: 6\n",
            "Whitespace found at index: 9\n",
            "Whitespace found at index: 11\n",
            "Whitespace found at index: 15\n",
            "Whitespace found at index: 27\n"
          ]
        }
      ]
    },
    {
      "cell_type": "markdown",
      "source": [
        "# **Functions in python**"
      ],
      "metadata": {
        "id": "xfqLdbfOLm9X"
      }
    },
    {
      "cell_type": "markdown",
      "metadata": {
        "id": "c5415c13"
      },
      "source": [
        "Functions in Python are blocks of reusable code that perform a specific task. They help organize code, make it more readable, and reduce redundancy.\n",
        "\n",
        "**Key Concepts:**\n",
        "\n",
        "*   **Defining a Function:** Functions are defined using the `def` keyword, followed by the function name, parentheses `()`, and a colon `:`. The code block for the function is indented.\n",
        "*   **Function Name:** Should be descriptive and follow Python naming conventions (lowercase with underscores).\n",
        "*   **Parameters:** These are values passed into the function when it is called. They are specified within the parentheses in the function definition.\n",
        "*   **Arguments:** These are the actual values passed to the function when it is called.\n",
        "*   **Return Statement:** The `return` keyword is used to send a value back from the function to the part of the code that called it. If no `return` statement is used, the function returns `None` by default.\n",
        "*   **Calling a Function:** To execute the code within a function, you \"call\" it by using the function name followed by parentheses `()`, including any necessary arguments.\n",
        "\n",
        "**Benefits of using Functions:**\n",
        "\n",
        "*   **Reusability:** Write code once and use it multiple times.\n",
        "*   **Modularity:** Break down complex problems into smaller, manageable parts.\n",
        "*   **Readability:** Makes code easier to understand and maintain.\n",
        "*   **Abstraction:** Hide the complex details of a task behind a simple function call."
      ]
    },
    {
      "cell_type": "code",
      "source": [
        "num1 = int(input(\"Enter Number 1 \"))\n",
        "\n",
        "num2 = int(input(\"Enter Number 2 \"))\n",
        "\n",
        "sum  = num1 + num2\n",
        "\n",
        "print(f\"The sum of these numbers is : {sum}\")"
      ],
      "metadata": {
        "colab": {
          "base_uri": "https://localhost:8080/"
        },
        "id": "AntNc2OrLrKq",
        "outputId": "d187ccaf-cbfb-4ec3-823f-4167cb5543d7"
      },
      "execution_count": null,
      "outputs": [
        {
          "output_type": "stream",
          "name": "stdout",
          "text": [
            "Enter Number 1 12\n",
            "Enter Number 2 23\n",
            "The sum of these numbers is : 35\n"
          ]
        }
      ]
    },
    {
      "cell_type": "code",
      "source": [
        "def calulateNums() : #Function declaration\n",
        "  num1 = int(input(\"Enter Number 1 \"))\n",
        "  num2 = int(input(\"Enter Number 2 \"))\n",
        "  sum  = num1 + num2                              #Function definition\n",
        "  print(f\"The sum of these numbers is : {sum}\")\n",
        "\n",
        "\n",
        "calulateNums() #Function call"
      ],
      "metadata": {
        "colab": {
          "base_uri": "https://localhost:8080/"
        },
        "id": "KhmOwLI6MlNb",
        "outputId": "09359cfd-9517-4697-a1c7-91b003f4c4bf"
      },
      "execution_count": null,
      "outputs": [
        {
          "output_type": "stream",
          "name": "stdout",
          "text": [
            "Enter Number 1 12\n",
            "Enter Number 2 12\n",
            "The sum of these numbers is : 24\n",
            "Enter number to get cube1\n",
            "The cube of 1 is 1\n"
          ]
        }
      ]
    },
    {
      "cell_type": "code",
      "source": [
        "def cube() :\n",
        "  num1 = int(input(\"Enter number to get cube \"))\n",
        "  cube = num1 * num1 * num1\n",
        "  print(f\"The cube of {num1} is {cube}\")\n",
        "\n",
        "cube()"
      ],
      "metadata": {
        "colab": {
          "base_uri": "https://localhost:8080/"
        },
        "id": "ViCewnZ1NJgv",
        "outputId": "22a50edc-cb3e-4921-9866-7eece2bea049"
      },
      "execution_count": null,
      "outputs": [
        {
          "output_type": "stream",
          "name": "stdout",
          "text": [
            "Enter number to get cube 2\n",
            "The cube of 2 is 8\n"
          ]
        }
      ]
    },
    {
      "cell_type": "markdown",
      "source": [
        "**Function With Arguments**\n",
        "\n",
        "There are two types of functions in python = 1. Built in. 2. User defined"
      ],
      "metadata": {
        "id": "uU38HM8QN_4m"
      }
    },
    {
      "cell_type": "code",
      "source": [
        "def greet(name) :\n",
        "  print(f\"Good Afternoon{name}\")\n",
        "\n",
        "greet(\"Aerospace\")\n",
        "\n",
        "\n",
        "def greet1(name , title = \"CHIP\"):\n",
        "  print(f\"Hello Coder {name} {title}\")\n",
        "\n",
        "greet1(\"Aerosapce\", 'Prog')"
      ],
      "metadata": {
        "colab": {
          "base_uri": "https://localhost:8080/"
        },
        "id": "QII0iqCcODTF",
        "outputId": "8b807001-fe5a-4654-ea9d-74cb5d820772"
      },
      "execution_count": null,
      "outputs": [
        {
          "output_type": "stream",
          "name": "stdout",
          "text": [
            "Good AfternoonAerospace\n",
            "Hello Coder Aerosapce Prog\n"
          ]
        }
      ]
    },
    {
      "cell_type": "code",
      "source": [
        "def func1(val):\n",
        "  return val\n",
        "\n",
        "func1(12)"
      ],
      "metadata": {
        "colab": {
          "base_uri": "https://localhost:8080/"
        },
        "id": "EGS0DmDfRIW4",
        "outputId": "3c055a7a-5836-4129-ee6f-d1d06b8d126f"
      },
      "execution_count": null,
      "outputs": [
        {
          "output_type": "execute_result",
          "data": {
            "text/plain": [
              "12"
            ]
          },
          "metadata": {},
          "execution_count": 15
        }
      ]
    },
    {
      "cell_type": "markdown",
      "source": [
        "Recursion Example for function\n"
      ],
      "metadata": {
        "id": "dHvlM4-rR6g_"
      }
    },
    {
      "cell_type": "code",
      "source": [
        "def fact (n) :\n",
        "  if(n == 1 or n == 0):\n",
        "    return 1\n",
        "\n",
        "  return n * fact(n-1)\n",
        "\n",
        "print(fact(5))"
      ],
      "metadata": {
        "colab": {
          "base_uri": "https://localhost:8080/"
        },
        "id": "yNYxuy-rR-Zv",
        "outputId": "b452afe3-5889-4eb6-9b01-ac2f0bb4cefb"
      },
      "execution_count": null,
      "outputs": [
        {
          "output_type": "stream",
          "name": "stdout",
          "text": [
            "120\n"
          ]
        }
      ]
    },
    {
      "cell_type": "markdown",
      "metadata": {
        "id": "970dfa38"
      },
      "source": [
        "# **Collections**\n",
        "\n",
        "Collections in Python are containers that are used to store collections of data. They are a fundamental part of Python and are used extensively in programming. Python offers several built-in collection types, each with its own characteristics and use cases.\n",
        "\n",
        "**Key Built-in Collection Types:**\n",
        "\n",
        "1.  **Lists (`list`)**:\n",
        "    *   Ordered, mutable (changeable) sequence of elements.\n",
        "    *   Elements are enclosed in square brackets `[]`.\n",
        "    *   Can contain elements of different data types.\n",
        "    *   Supports indexing and slicing.\n",
        "    *   Examples: `[1, 2, 3]`, `['apple', 'banana', 'cherry']`\n",
        "\n",
        "2.  **Tuples (`tuple`)**:\n",
        "    *   Ordered, immutable (unchangeable) sequence of elements.\n",
        "    *   Elements are enclosed in parentheses `()`.\n",
        "    *   Can contain elements of different data types.\n",
        "    *   Supports indexing and slicing.\n",
        "    *   Often used for heterogeneous data (different types) and when the sequence of elements is fixed.\n",
        "    *   Examples: `(1, 2, 3)`, `('apple', 'banana')`\n",
        "\n",
        "3.  **Sets (`set`)**:\n",
        "    *   Unordered collection of unique elements.\n",
        "    *   Elements are enclosed in curly braces `{}` (except for an empty set, which is created using `set()`).\n",
        "    *   Does not support indexing or slicing.\n",
        "    *   Useful for membership testing, removing duplicates, and performing mathematical set operations (union, intersection, difference).\n",
        "    *   Examples: `{1, 2, 3}`, `{'apple', 'banana'}`\n",
        "\n",
        "4.  **Dictionaries (`dict`)**:\n",
        "    *   Unordered collection of key-value pairs.\n",
        "    *   Key-value pairs are enclosed in curly braces `{}`.\n",
        "    *   Keys must be unique and immutable (like strings, numbers, or tuples).\n",
        "    *   Values can be of any data type.\n",
        "    *   Used to store data in a key-value format for efficient lookup.\n",
        "    *   Examples: `{'name': 'John', 'age': 30}`, `{'a': 1, 'b': 2}`\n",
        "\n",
        "Understanding these collection types and their differences is crucial for writing efficient and effective Python code."
      ]
    },
    {
      "cell_type": "markdown",
      "source": [
        "**List**"
      ],
      "metadata": {
        "id": "ENlKOA9vUp_Q"
      }
    },
    {
      "cell_type": "code",
      "source": [
        "#List - Mutable and indexing maintained\n",
        "\n",
        "list = [1,2,\"hello\",3,4,5,True , False , None , \"hi\" , 1.2]\n",
        "\n",
        "#Get Element by indexing\n",
        "print(list[1])\n",
        "#Print Whole list\n",
        "print(list)\n",
        "#List Iterator\n",
        "for i in list:\n",
        "  print(i)\n",
        "\n",
        "# Slicing in list\n",
        "print(list[0:4])\n",
        "print(list[::2])\n",
        "print(list[::4])\n",
        "\n",
        "#Functions in list\n",
        "list1 = [1,232,453,6,4,32,97]\n",
        "\n",
        "list1.sort()\n",
        "print(list1)\n",
        "\n",
        "list1.reverse()\n",
        "print(list1)\n",
        "\n",
        "list1.append(20)\n",
        "print(list1)\n",
        "\n",
        "list1.insert(3,47)\n",
        "print(list1)\n",
        "\n",
        "list1.index(32)\n",
        "\n",
        "list1.pop(3)\n",
        "print(list1)\n",
        "\n",
        "list1.remove(453)\n",
        "print(list1)\n",
        "\n",
        "\"\"\"\n",
        "Features of List :\n",
        "ordered collection of elements\n",
        "heterogenours data\n",
        "mutable\n",
        "indexing/slicing\n",
        "allow duplicates\n",
        "nested list allowed\n",
        "itetrable\n",
        "non - hashable\n",
        "\n",
        "\"\"\""
      ],
      "metadata": {
        "colab": {
          "base_uri": "https://localhost:8080/"
        },
        "id": "pnPox044TTGA",
        "outputId": "d9a09609-55c5-4536-f7b1-50716b90e17b"
      },
      "execution_count": null,
      "outputs": [
        {
          "output_type": "stream",
          "name": "stdout",
          "text": [
            "2\n",
            "[1, 2, 'hello', 3, 4, 5, True, False, None, 'hi', 1.2]\n",
            "1\n",
            "2\n",
            "hello\n",
            "3\n",
            "4\n",
            "5\n",
            "True\n",
            "False\n",
            "None\n",
            "hi\n",
            "1.2\n",
            "[1, 2, 'hello', 3]\n",
            "[1, 'hello', 4, True, None, 1.2]\n",
            "[1, 4, None]\n",
            "[1, 4, 6, 32, 97, 232, 453]\n",
            "[453, 232, 97, 32, 6, 4, 1]\n",
            "[453, 232, 97, 32, 6, 4, 1, 20]\n",
            "[453, 232, 97, 47, 32, 6, 4, 1, 20]\n",
            "[453, 232, 97, 32, 6, 4, 1, 20]\n",
            "[232, 97, 32, 6, 4, 1, 20]\n"
          ]
        }
      ]
    },
    {
      "cell_type": "code",
      "source": [
        "listexample = [1,2,3,4,5,6,70]\n",
        "def add(listexample):\n",
        "  sum = 0\n",
        "  for i in listexample:\n",
        "    sum = sum + i\n",
        "  return sum\n",
        "\n",
        "print(add(listexample))"
      ],
      "metadata": {
        "colab": {
          "base_uri": "https://localhost:8080/"
        },
        "id": "7TEwP2XHY6mp",
        "outputId": "f028bebd-9c43-4115-90aa-a88ec2ca0487"
      },
      "execution_count": null,
      "outputs": [
        {
          "output_type": "stream",
          "name": "stdout",
          "text": [
            "91\n"
          ]
        }
      ]
    },
    {
      "cell_type": "markdown",
      "source": [
        "**Tuples**"
      ],
      "metadata": {
        "id": "xEiRBq7UsLwV"
      }
    },
    {
      "cell_type": "code",
      "source": [
        "#Tuple declaration\n",
        "\n",
        "t1 = (1,2,3,3,3,\"hello\",True)\n",
        "t2 = ()\n",
        "t3 = (1,)\n",
        "\n",
        "t1.count(3)\n",
        "\n",
        "print(t1)\n",
        "\n",
        "#Iterator in tuple\n",
        "for i in t1:\n",
        "  print(i)\n",
        "\n",
        "print(t1[1])\n",
        "\n",
        "#Slicing\n",
        "print(t1[0:4])\n",
        "print(t1[::2])\n",
        "print(t1[::3])"
      ],
      "metadata": {
        "colab": {
          "base_uri": "https://localhost:8080/"
        },
        "id": "PxN3MhadsOI9",
        "outputId": "f045b0a6-7f68-40b3-a090-a8a3e716e38e"
      },
      "execution_count": null,
      "outputs": [
        {
          "output_type": "stream",
          "name": "stdout",
          "text": [
            "(1, 2, 3, 3, 3, 'hello', True)\n",
            "1\n",
            "2\n",
            "3\n",
            "3\n",
            "3\n",
            "hello\n",
            "True\n",
            "2\n",
            "(1, 2, 3, 3)\n",
            "(1, 3, 3, True)\n",
            "(1, 3, True)\n"
          ]
        }
      ]
    },
    {
      "cell_type": "markdown",
      "source": [
        "**Functions In Tuple**"
      ],
      "metadata": {
        "id": "XC3VQcgJt5yp"
      }
    },
    {
      "cell_type": "code",
      "source": [
        "t1.count(3)\n",
        "\n",
        "t1.index(\"hello\")\n",
        "\n",
        "'''\n",
        "  Features of Tuple :\n",
        "  ordered collection of elements\n",
        "  heterogenours data\n",
        "  immutable\n",
        "  indexing/slicing\n",
        "  allow duplicates\n",
        "  nested tuple allowed\n",
        "  itetrable\n",
        "  hashable\n",
        "'''"
      ],
      "metadata": {
        "colab": {
          "base_uri": "https://localhost:8080/"
        },
        "id": "uOLWjbUWt8x9",
        "outputId": "cc56eb18-e20c-42d8-ed91-12bb8d7e5f07"
      },
      "execution_count": null,
      "outputs": [
        {
          "output_type": "execute_result",
          "data": {
            "text/plain": [
              "5"
            ]
          },
          "metadata": {},
          "execution_count": 16
        }
      ]
    },
    {
      "cell_type": "markdown",
      "source": [
        "**Dictionary**"
      ],
      "metadata": {
        "id": "ZcuqwmQSv9Ie"
      }
    },
    {
      "cell_type": "code",
      "source": [
        "dict1 = {\n",
        "    \"key\" : \"value\",\n",
        "    1 : \"hello\",\n",
        "    2 : \"yellow\",\n",
        "    3 : \"aerospace\",\n",
        "    \"hi\" : \"bye\",\n",
        "    \"bool\" : True,\n",
        "    \"list\" : [1,2,3,4,5],\n",
        "    \"tuple\" : (1,2)\n",
        "}\n",
        "#The Key should be hashable --> unique/immutable\n",
        "\n",
        "print(dict1)\n",
        "\n",
        "# TO delete element there is only pop() method\n",
        "dict1.pop(\"tuple\")\n",
        "print(dict1)\n"
      ],
      "metadata": {
        "colab": {
          "base_uri": "https://localhost:8080/"
        },
        "id": "mh0ID9-Xv_kr",
        "outputId": "506169db-1785-445c-e091-e9c75b163196"
      },
      "execution_count": null,
      "outputs": [
        {
          "output_type": "stream",
          "name": "stdout",
          "text": [
            "{'key': 'value', 1: 'hello', 2: 'yellow', 3: 'aerospace', 'hi': 'bye', 'bool': True, 'list': [1, 2, 3, 4, 5], 'tuple': (1, 2)}\n",
            "{'key': 'value', 1: 'hello', 2: 'yellow', 3: 'aerospace', 'hi': 'bye', 'bool': True, 'list': [1, 2, 3, 4, 5]}\n"
          ]
        }
      ]
    },
    {
      "cell_type": "markdown",
      "source": [
        "**Set - A set is an unordered collection of unique elements.**"
      ],
      "metadata": {
        "id": "7ZP80Z-2YKXb"
      }
    },
    {
      "cell_type": "code",
      "source": [
        "# Declaration:\n",
        "s = set()\n",
        "s.add(5)\n",
        "s.add(24)\n",
        "s.add(\"hello\")\n",
        "s.add(True)\n",
        "s.add(1) # Duplicate of True → ignored\n",
        "s.add(0) # Duplicate of False → ignored\n",
        "print(s)\n",
        "s1 = {123, 344, \"hello\", True, 1, 0, False}\n",
        "print(s1)"
      ],
      "metadata": {
        "colab": {
          "base_uri": "https://localhost:8080/"
        },
        "id": "lr0nnU5lYftS",
        "outputId": "7ab35422-f857-46a4-8287-d20a27e43355"
      },
      "execution_count": null,
      "outputs": [
        {
          "output_type": "stream",
          "name": "stdout",
          "text": [
            "{0, True, 5, 'hello', 24}\n",
            "{0, True, 'hello', 344, 123}\n"
          ]
        }
      ]
    },
    {
      "cell_type": "code",
      "source": [
        "# Set Functions:\n",
        "print(len(s1)) # Length of set\n",
        "s1.remove(123) # Remove specific element\n",
        "s1.pop() # Removes random element\n",
        "s.clear() # Empty set\n",
        "s1.update([67, 3, 4], {8, 11}) # Add multiple elements\n",
        "print(s1)\n",
        "print(s1.union({123, 345, 33})) # Union\n",
        "print(s1 | {123, 345, 33}) # Equivalent union operator\n",
        "print(s1.intersection({67, 3, 48})) # Intersection\n",
        "print(s1 & {67, 3, 48}) # Equivalent intersection operator\n",
        "\n",
        "# Features of a Set\n",
        "# ● Unordered → no indexing.\n",
        "# ● Mutable → elements can be added/removed.\n",
        "# ● No duplicates → {1, True} collapses to {1}.\n",
        "# ● Heterogeneous elements allowed (numbers, strings, tuples).\n",
        "# ● Supports Union (|) and Intersection (&)."
      ],
      "metadata": {
        "id": "Q3WFswtZY1vw"
      },
      "execution_count": null,
      "outputs": []
    },
    {
      "cell_type": "markdown",
      "source": [
        "# File IO"
      ],
      "metadata": {
        "id": "e_K_PTDz8tfx"
      }
    },
    {
      "cell_type": "markdown",
      "metadata": {
        "id": "d98985a9"
      },
      "source": [
        "**File I/O in Python**\n",
        "\n",
        "File Input/Output (I/O) in Python allows you to interact with files on your computer. This means you can read data from files and write data to files.\n",
        "\n",
        "Key concepts:\n",
        "\n",
        "*   **Opening a File:** You need to open a file before you can read from it or write to it. The `open()` function is used for this. You specify the file path and the mode (e.g., 'r' for read, 'w' for write, 'a' for append).\n",
        "*   **File Modes:** Different modes determine how the file is opened:\n",
        "    *   `'r'` (read): Opens a file for reading. The file pointer is at the beginning.\n",
        "    *   `'w'` (write): Opens a file for writing. Creates a new file if it doesn't exist or truncates the file if it exists.\n",
        "    *   `'a'` (append): Opens a file for appending. Creates a new file if it doesn't exist. Data is written at the end of the file.\n",
        "    *   `'x'` (exclusive creation): Creates a new file, but raises an error if the file already exists.\n",
        "    *   `'t'` (text mode): The default mode. Data is treated as text.\n",
        "    *   `'b'` (binary mode): Data is treated as binary.\n",
        "*   **Reading from a File:** After opening in read mode, you can use methods like `read()`, `readline()`, or `readlines()` to get data from the file.\n",
        "*   **Writing to a File:** After opening in write or append mode, you can use the `write()` method to put data into the file.\n",
        "*   **Closing a File:** It's crucial to close a file after you're done with it using the `close()` method. This releases the file resources. Using `with open(...) as file:` is the recommended way as it automatically closes the file."
      ]
    },
    {
      "cell_type": "code",
      "source": [
        "# There is a function which solves a purpose.\n",
        "\n",
        "# The place of execution of any program would be your RAM\n",
        "\n",
        "# The RAM is a volatile form of memory in which all your contents are lost , once the program terminates\n",
        "\n",
        "# To store any form of a permanently your need files\n",
        "\n",
        "# HDD & SSD is a form of non-volatile memory which can save files permanently\n",
        "\n"
      ],
      "metadata": {
        "id": "TpJkhTOn9jEV"
      },
      "execution_count": null,
      "outputs": []
    },
    {
      "cell_type": "code",
      "source": [
        "# Reading from Text files and writing into text files\n",
        "\n",
        "from google.colab import files\n",
        "uploaded = files.upload() # This variable is form of collection\n",
        "\n",
        "for filename in uploaded:\n",
        "  # Opens the file\n",
        "  f = open(filename) #open() function - (\"filename\" , \"operation\")\n",
        "  # Read the file\n",
        "  data = f.read()\n",
        "  #prints the data\n",
        "  print(data)\n",
        "  #close the file\n",
        "  f.close()\n"
      ],
      "metadata": {
        "colab": {
          "base_uri": "https://localhost:8080/",
          "height": 127
        },
        "id": "KwPYK2N4AQId",
        "outputId": "d102671c-1404-4d48-bb9e-854e335daba9"
      },
      "execution_count": null,
      "outputs": [
        {
          "output_type": "display_data",
          "data": {
            "text/plain": [
              "<IPython.core.display.HTML object>"
            ],
            "text/html": [
              "\n",
              "     <input type=\"file\" id=\"files-47b88335-7eda-45aa-9638-e4ba0faee8e3\" name=\"files[]\" multiple disabled\n",
              "        style=\"border:none\" />\n",
              "     <output id=\"result-47b88335-7eda-45aa-9638-e4ba0faee8e3\">\n",
              "      Upload widget is only available when the cell has been executed in the\n",
              "      current browser session. Please rerun this cell to enable.\n",
              "      </output>\n",
              "      <script>// Copyright 2017 Google LLC\n",
              "//\n",
              "// Licensed under the Apache License, Version 2.0 (the \"License\");\n",
              "// you may not use this file except in compliance with the License.\n",
              "// You may obtain a copy of the License at\n",
              "//\n",
              "//      http://www.apache.org/licenses/LICENSE-2.0\n",
              "//\n",
              "// Unless required by applicable law or agreed to in writing, software\n",
              "// distributed under the License is distributed on an \"AS IS\" BASIS,\n",
              "// WITHOUT WARRANTIES OR CONDITIONS OF ANY KIND, either express or implied.\n",
              "// See the License for the specific language governing permissions and\n",
              "// limitations under the License.\n",
              "\n",
              "/**\n",
              " * @fileoverview Helpers for google.colab Python module.\n",
              " */\n",
              "(function(scope) {\n",
              "function span(text, styleAttributes = {}) {\n",
              "  const element = document.createElement('span');\n",
              "  element.textContent = text;\n",
              "  for (const key of Object.keys(styleAttributes)) {\n",
              "    element.style[key] = styleAttributes[key];\n",
              "  }\n",
              "  return element;\n",
              "}\n",
              "\n",
              "// Max number of bytes which will be uploaded at a time.\n",
              "const MAX_PAYLOAD_SIZE = 100 * 1024;\n",
              "\n",
              "function _uploadFiles(inputId, outputId) {\n",
              "  const steps = uploadFilesStep(inputId, outputId);\n",
              "  const outputElement = document.getElementById(outputId);\n",
              "  // Cache steps on the outputElement to make it available for the next call\n",
              "  // to uploadFilesContinue from Python.\n",
              "  outputElement.steps = steps;\n",
              "\n",
              "  return _uploadFilesContinue(outputId);\n",
              "}\n",
              "\n",
              "// This is roughly an async generator (not supported in the browser yet),\n",
              "// where there are multiple asynchronous steps and the Python side is going\n",
              "// to poll for completion of each step.\n",
              "// This uses a Promise to block the python side on completion of each step,\n",
              "// then passes the result of the previous step as the input to the next step.\n",
              "function _uploadFilesContinue(outputId) {\n",
              "  const outputElement = document.getElementById(outputId);\n",
              "  const steps = outputElement.steps;\n",
              "\n",
              "  const next = steps.next(outputElement.lastPromiseValue);\n",
              "  return Promise.resolve(next.value.promise).then((value) => {\n",
              "    // Cache the last promise value to make it available to the next\n",
              "    // step of the generator.\n",
              "    outputElement.lastPromiseValue = value;\n",
              "    return next.value.response;\n",
              "  });\n",
              "}\n",
              "\n",
              "/**\n",
              " * Generator function which is called between each async step of the upload\n",
              " * process.\n",
              " * @param {string} inputId Element ID of the input file picker element.\n",
              " * @param {string} outputId Element ID of the output display.\n",
              " * @return {!Iterable<!Object>} Iterable of next steps.\n",
              " */\n",
              "function* uploadFilesStep(inputId, outputId) {\n",
              "  const inputElement = document.getElementById(inputId);\n",
              "  inputElement.disabled = false;\n",
              "\n",
              "  const outputElement = document.getElementById(outputId);\n",
              "  outputElement.innerHTML = '';\n",
              "\n",
              "  const pickedPromise = new Promise((resolve) => {\n",
              "    inputElement.addEventListener('change', (e) => {\n",
              "      resolve(e.target.files);\n",
              "    });\n",
              "  });\n",
              "\n",
              "  const cancel = document.createElement('button');\n",
              "  inputElement.parentElement.appendChild(cancel);\n",
              "  cancel.textContent = 'Cancel upload';\n",
              "  const cancelPromise = new Promise((resolve) => {\n",
              "    cancel.onclick = () => {\n",
              "      resolve(null);\n",
              "    };\n",
              "  });\n",
              "\n",
              "  // Wait for the user to pick the files.\n",
              "  const files = yield {\n",
              "    promise: Promise.race([pickedPromise, cancelPromise]),\n",
              "    response: {\n",
              "      action: 'starting',\n",
              "    }\n",
              "  };\n",
              "\n",
              "  cancel.remove();\n",
              "\n",
              "  // Disable the input element since further picks are not allowed.\n",
              "  inputElement.disabled = true;\n",
              "\n",
              "  if (!files) {\n",
              "    return {\n",
              "      response: {\n",
              "        action: 'complete',\n",
              "      }\n",
              "    };\n",
              "  }\n",
              "\n",
              "  for (const file of files) {\n",
              "    const li = document.createElement('li');\n",
              "    li.append(span(file.name, {fontWeight: 'bold'}));\n",
              "    li.append(span(\n",
              "        `(${file.type || 'n/a'}) - ${file.size} bytes, ` +\n",
              "        `last modified: ${\n",
              "            file.lastModifiedDate ? file.lastModifiedDate.toLocaleDateString() :\n",
              "                                    'n/a'} - `));\n",
              "    const percent = span('0% done');\n",
              "    li.appendChild(percent);\n",
              "\n",
              "    outputElement.appendChild(li);\n",
              "\n",
              "    const fileDataPromise = new Promise((resolve) => {\n",
              "      const reader = new FileReader();\n",
              "      reader.onload = (e) => {\n",
              "        resolve(e.target.result);\n",
              "      };\n",
              "      reader.readAsArrayBuffer(file);\n",
              "    });\n",
              "    // Wait for the data to be ready.\n",
              "    let fileData = yield {\n",
              "      promise: fileDataPromise,\n",
              "      response: {\n",
              "        action: 'continue',\n",
              "      }\n",
              "    };\n",
              "\n",
              "    // Use a chunked sending to avoid message size limits. See b/62115660.\n",
              "    let position = 0;\n",
              "    do {\n",
              "      const length = Math.min(fileData.byteLength - position, MAX_PAYLOAD_SIZE);\n",
              "      const chunk = new Uint8Array(fileData, position, length);\n",
              "      position += length;\n",
              "\n",
              "      const base64 = btoa(String.fromCharCode.apply(null, chunk));\n",
              "      yield {\n",
              "        response: {\n",
              "          action: 'append',\n",
              "          file: file.name,\n",
              "          data: base64,\n",
              "        },\n",
              "      };\n",
              "\n",
              "      let percentDone = fileData.byteLength === 0 ?\n",
              "          100 :\n",
              "          Math.round((position / fileData.byteLength) * 100);\n",
              "      percent.textContent = `${percentDone}% done`;\n",
              "\n",
              "    } while (position < fileData.byteLength);\n",
              "  }\n",
              "\n",
              "  // All done.\n",
              "  yield {\n",
              "    response: {\n",
              "      action: 'complete',\n",
              "    }\n",
              "  };\n",
              "}\n",
              "\n",
              "scope.google = scope.google || {};\n",
              "scope.google.colab = scope.google.colab || {};\n",
              "scope.google.colab._files = {\n",
              "  _uploadFiles,\n",
              "  _uploadFilesContinue,\n",
              "};\n",
              "})(self);\n",
              "</script> "
            ]
          },
          "metadata": {}
        },
        {
          "output_type": "stream",
          "name": "stdout",
          "text": [
            "Saving test.txt to test (3).txt\n",
            "Hello this is text file\n",
            "This is second line \n",
            "This is third line\n"
          ]
        }
      ]
    },
    {
      "cell_type": "code",
      "source": [
        "#read() function variants\n",
        "\n",
        "#readline()\n",
        "#readlines()\n",
        "# with - Helps you avoid explicit declaration of close()\n",
        "\n",
        "\n",
        "# for filename in uploaded:\n",
        "#   with open(filename, \"r\") as f:\n",
        "#     line1 = f.readline()\n",
        "#     print(line1,type(line1))\n",
        "#     line2 = f.readline()\n",
        "#     print(line2,type(line2))\n",
        "#     line3 = f.readline()\n",
        "#     print(line3,type(line3))\n",
        "\n",
        "# for filename in uploaded:\n",
        "#   with open(filename, \"r\") as f:\n",
        "#     lines = f.readlines()\n",
        "#     print(lines,type(lines))\n",
        "\n",
        "#PRACTICE :- read from a file name animals.txt and check whether the file contains the word \"hen\" in it\n",
        "# from google.colab import files\n",
        "# uploaded = files.upload()\n",
        "\n",
        "# for filename in uploaded:\n",
        "#   with open(filename, \"r\") as f:\n",
        "#     lines = f.readlines()\n",
        "#     for line in lines:\n",
        "#       if \"hen\" in line:\n",
        "#         print(True)\n",
        "#         break\n",
        "#       else :\n",
        "#         print(False)\n",
        "#         break\n",
        "\n",
        "\n",
        "# WRITE OPERATION\n",
        "\n",
        "# f = open(\"test.txt\", \"w\")\n",
        "# newStr = \"Hello Duniya!\"\n",
        "# f.write(newStr)\n",
        "# f.close()\n",
        "\n",
        "# write() is a method used with file objects in Python to write a string to a file.\n",
        "# Write() with a capital 'W' is not a standard method in Python for file handling. It might be a typo or a method from a specific library or custom class.\n",
        "\n",
        "#HERE THIS WILL NOT WORK\n",
        "\n",
        "\n",
        "#APPEND OPERATION\n",
        "\n",
        "# f = open(\"test.txt\" , \"a\")\n",
        "# addedStr = \"\\n This is new line added with append\"\n",
        "# f.write(addedStr)\n",
        "# f.close()\n",
        "\n",
        "\"\"\"\n",
        "  Python File Modes - Definitions\n",
        "===============================\n",
        "\n",
        "Basic Modes\n",
        "-----------\n",
        "r   = Open for reading only (default). File must exist.\n",
        "w   = Open for writing only. Creates a new file or truncates (empties) the file if it exists.\n",
        "a   = Open for appending only. Creates file if it does not exist, otherwise writes at the end.\n",
        "\n",
        "With '+' (Read + Write)\n",
        "-----------------------\n",
        "r+  = Open for reading and writing. File must exist. No truncation.\n",
        "w+  = Open for reading and writing. Truncate file first (empties it if it exists).\n",
        "a+  = Open for reading and appending. File pointer is at the end, but you can still read.\n",
        "\n",
        "Binary / Text Modes\n",
        "-------------------\n",
        "rb  = Open for reading binary (e.g., images, videos). File must exist.\n",
        "wb  = Open for writing binary. Truncate file first (create new if not exists).\n",
        "ab  = Open for appending binary.\n",
        "\n",
        "rt  = Open for reading text (default mode). Same as \"r\".\n",
        "wt  = Open for writing text (truncate file). Same as \"w\".\n",
        "at  = Open for appending text. Same as \"a\".\n",
        "\n",
        "Combos\n",
        "------\n",
        "r+b or rb+ = Read & write binary. File must exist.\n",
        "w+b or wb+ = Read & write binary, truncate first.\n",
        "a+b or ab+ = Read & write binary, append if file exists.\n",
        "\n",
        "Quick Summary Table\n",
        "-------------------\n",
        "| Mode | File Must Exist? | Truncate? | Pointer | Read | Write |\n",
        "|------|------------------|-----------|---------|------|-------|\n",
        "| r    | Yes              | No        | Start   | Yes  | No    |\n",
        "| w    | No (creates)     | Yes       | Start   | No   | Yes   |\n",
        "| a    | No (creates)     | No        | End     | No   | Yes   |\n",
        "| r+   | Yes              | No        | Start   | Yes  | Yes   |\n",
        "| w+   | No (creates)     | Yes       | Start   | Yes  | Yes   |\n",
        "| a+   | No (creates)     | No        | End     | Yes  | Yes   |\n",
        "| rb   | Yes              | No        | Start   | Yes  | No    |\n",
        "| wb   | No (creates)     | Yes       | Start   | No   | Yes   |\n",
        "| ab   | No (creates)     | No        | End     | No   | Yes   |\n",
        "\"\"\"\n"
      ],
      "metadata": {
        "colab": {
          "base_uri": "https://localhost:8080/",
          "height": 92
        },
        "id": "ac384p-zDJfT",
        "outputId": "eea24ea2-79d9-4945-8034-6800e96e946b"
      },
      "execution_count": null,
      "outputs": [
        {
          "output_type": "display_data",
          "data": {
            "text/plain": [
              "<IPython.core.display.HTML object>"
            ],
            "text/html": [
              "\n",
              "     <input type=\"file\" id=\"files-66a43cae-c809-4d35-add5-c7d2b51ad67c\" name=\"files[]\" multiple disabled\n",
              "        style=\"border:none\" />\n",
              "     <output id=\"result-66a43cae-c809-4d35-add5-c7d2b51ad67c\">\n",
              "      Upload widget is only available when the cell has been executed in the\n",
              "      current browser session. Please rerun this cell to enable.\n",
              "      </output>\n",
              "      <script>// Copyright 2017 Google LLC\n",
              "//\n",
              "// Licensed under the Apache License, Version 2.0 (the \"License\");\n",
              "// you may not use this file except in compliance with the License.\n",
              "// You may obtain a copy of the License at\n",
              "//\n",
              "//      http://www.apache.org/licenses/LICENSE-2.0\n",
              "//\n",
              "// Unless required by applicable law or agreed to in writing, software\n",
              "// distributed under the License is distributed on an \"AS IS\" BASIS,\n",
              "// WITHOUT WARRANTIES OR CONDITIONS OF ANY KIND, either express or implied.\n",
              "// See the License for the specific language governing permissions and\n",
              "// limitations under the License.\n",
              "\n",
              "/**\n",
              " * @fileoverview Helpers for google.colab Python module.\n",
              " */\n",
              "(function(scope) {\n",
              "function span(text, styleAttributes = {}) {\n",
              "  const element = document.createElement('span');\n",
              "  element.textContent = text;\n",
              "  for (const key of Object.keys(styleAttributes)) {\n",
              "    element.style[key] = styleAttributes[key];\n",
              "  }\n",
              "  return element;\n",
              "}\n",
              "\n",
              "// Max number of bytes which will be uploaded at a time.\n",
              "const MAX_PAYLOAD_SIZE = 100 * 1024;\n",
              "\n",
              "function _uploadFiles(inputId, outputId) {\n",
              "  const steps = uploadFilesStep(inputId, outputId);\n",
              "  const outputElement = document.getElementById(outputId);\n",
              "  // Cache steps on the outputElement to make it available for the next call\n",
              "  // to uploadFilesContinue from Python.\n",
              "  outputElement.steps = steps;\n",
              "\n",
              "  return _uploadFilesContinue(outputId);\n",
              "}\n",
              "\n",
              "// This is roughly an async generator (not supported in the browser yet),\n",
              "// where there are multiple asynchronous steps and the Python side is going\n",
              "// to poll for completion of each step.\n",
              "// This uses a Promise to block the python side on completion of each step,\n",
              "// then passes the result of the previous step as the input to the next step.\n",
              "function _uploadFilesContinue(outputId) {\n",
              "  const outputElement = document.getElementById(outputId);\n",
              "  const steps = outputElement.steps;\n",
              "\n",
              "  const next = steps.next(outputElement.lastPromiseValue);\n",
              "  return Promise.resolve(next.value.promise).then((value) => {\n",
              "    // Cache the last promise value to make it available to the next\n",
              "    // step of the generator.\n",
              "    outputElement.lastPromiseValue = value;\n",
              "    return next.value.response;\n",
              "  });\n",
              "}\n",
              "\n",
              "/**\n",
              " * Generator function which is called between each async step of the upload\n",
              " * process.\n",
              " * @param {string} inputId Element ID of the input file picker element.\n",
              " * @param {string} outputId Element ID of the output display.\n",
              " * @return {!Iterable<!Object>} Iterable of next steps.\n",
              " */\n",
              "function* uploadFilesStep(inputId, outputId) {\n",
              "  const inputElement = document.getElementById(inputId);\n",
              "  inputElement.disabled = false;\n",
              "\n",
              "  const outputElement = document.getElementById(outputId);\n",
              "  outputElement.innerHTML = '';\n",
              "\n",
              "  const pickedPromise = new Promise((resolve) => {\n",
              "    inputElement.addEventListener('change', (e) => {\n",
              "      resolve(e.target.files);\n",
              "    });\n",
              "  });\n",
              "\n",
              "  const cancel = document.createElement('button');\n",
              "  inputElement.parentElement.appendChild(cancel);\n",
              "  cancel.textContent = 'Cancel upload';\n",
              "  const cancelPromise = new Promise((resolve) => {\n",
              "    cancel.onclick = () => {\n",
              "      resolve(null);\n",
              "    };\n",
              "  });\n",
              "\n",
              "  // Wait for the user to pick the files.\n",
              "  const files = yield {\n",
              "    promise: Promise.race([pickedPromise, cancelPromise]),\n",
              "    response: {\n",
              "      action: 'starting',\n",
              "    }\n",
              "  };\n",
              "\n",
              "  cancel.remove();\n",
              "\n",
              "  // Disable the input element since further picks are not allowed.\n",
              "  inputElement.disabled = true;\n",
              "\n",
              "  if (!files) {\n",
              "    return {\n",
              "      response: {\n",
              "        action: 'complete',\n",
              "      }\n",
              "    };\n",
              "  }\n",
              "\n",
              "  for (const file of files) {\n",
              "    const li = document.createElement('li');\n",
              "    li.append(span(file.name, {fontWeight: 'bold'}));\n",
              "    li.append(span(\n",
              "        `(${file.type || 'n/a'}) - ${file.size} bytes, ` +\n",
              "        `last modified: ${\n",
              "            file.lastModifiedDate ? file.lastModifiedDate.toLocaleDateString() :\n",
              "                                    'n/a'} - `));\n",
              "    const percent = span('0% done');\n",
              "    li.appendChild(percent);\n",
              "\n",
              "    outputElement.appendChild(li);\n",
              "\n",
              "    const fileDataPromise = new Promise((resolve) => {\n",
              "      const reader = new FileReader();\n",
              "      reader.onload = (e) => {\n",
              "        resolve(e.target.result);\n",
              "      };\n",
              "      reader.readAsArrayBuffer(file);\n",
              "    });\n",
              "    // Wait for the data to be ready.\n",
              "    let fileData = yield {\n",
              "      promise: fileDataPromise,\n",
              "      response: {\n",
              "        action: 'continue',\n",
              "      }\n",
              "    };\n",
              "\n",
              "    // Use a chunked sending to avoid message size limits. See b/62115660.\n",
              "    let position = 0;\n",
              "    do {\n",
              "      const length = Math.min(fileData.byteLength - position, MAX_PAYLOAD_SIZE);\n",
              "      const chunk = new Uint8Array(fileData, position, length);\n",
              "      position += length;\n",
              "\n",
              "      const base64 = btoa(String.fromCharCode.apply(null, chunk));\n",
              "      yield {\n",
              "        response: {\n",
              "          action: 'append',\n",
              "          file: file.name,\n",
              "          data: base64,\n",
              "        },\n",
              "      };\n",
              "\n",
              "      let percentDone = fileData.byteLength === 0 ?\n",
              "          100 :\n",
              "          Math.round((position / fileData.byteLength) * 100);\n",
              "      percent.textContent = `${percentDone}% done`;\n",
              "\n",
              "    } while (position < fileData.byteLength);\n",
              "  }\n",
              "\n",
              "  // All done.\n",
              "  yield {\n",
              "    response: {\n",
              "      action: 'complete',\n",
              "    }\n",
              "  };\n",
              "}\n",
              "\n",
              "scope.google = scope.google || {};\n",
              "scope.google.colab = scope.google.colab || {};\n",
              "scope.google.colab._files = {\n",
              "  _uploadFiles,\n",
              "  _uploadFilesContinue,\n",
              "};\n",
              "})(self);\n",
              "</script> "
            ]
          },
          "metadata": {}
        },
        {
          "output_type": "stream",
          "name": "stdout",
          "text": [
            "Saving animals.txt to animals (6).txt\n",
            "True\n"
          ]
        }
      ]
    },
    {
      "cell_type": "code",
      "source": [
        "# WAP to write tables from 2 to 20 in differend text files. Store them in a folder.\n",
        "\n",
        "# for num in range(2, 21):\n",
        "#     file_path = f\"tables/table_{num}.txt\"\n",
        "\n",
        "#     with open(file_path, \"w\") as f:\n",
        "#         f.write(f\"Multiplication Table of {num}\\n\")\n",
        "#         f.write(\"=\" * 30 + \"\\n\")\n",
        "#         for i in range(1, 11):\n",
        "#             f.write(f\"{num} x {i} = {num * i}\\n\")\n",
        "\n",
        "# print(\"Tables from 2 to 20 have been written inside the 'tables' folder \")\n"
      ],
      "metadata": {
        "id": "t0bc8ry4NWTX"
      },
      "execution_count": null,
      "outputs": []
    },
    {
      "cell_type": "markdown",
      "source": [
        "# NumPy"
      ],
      "metadata": {
        "id": "7uqEiblifnuK"
      }
    },
    {
      "cell_type": "markdown",
      "metadata": {
        "id": "294e2955"
      },
      "source": [
        "*NumPy*\n",
        "\n",
        "NumPy (Numerical Python) is a fundamental library for scientific computing in Python. It provides support for large, multi-dimensional arrays and matrices, along with a large collection of high-level mathematical functions to operate on these arrays.\n",
        "\n",
        "**Key Features:**\n",
        "\n",
        "*   **Powerful N-dimensional array object:** This is the core of NumPy, allowing efficient storage and manipulation of large datasets.\n",
        "*   **Broadcasting:** A powerful feature that allows NumPy to work with arrays of different shapes when performing arithmetic operations.\n",
        "*   **Integration:** NumPy is designed to be highly integrated with other scientific computing libraries like SciPy and Matplotlib.\n",
        "*   **Performance:** NumPy operations are often much faster than equivalent Python list operations due to its underlying implementation in C.\n",
        "\n",
        "**Why use NumPy?**\n",
        "\n",
        "*   **Efficiency:** Working with large datasets is significantly faster.\n",
        "*   **Convenience:** Provides a wide range of mathematical functions and operations that are easy to use.\n",
        "*   **Foundation:** Many other scientific and data analysis libraries in Python are built on top of NumPy."
      ]
    },
    {
      "cell_type": "code",
      "source": [
        "                                                                  # FEATURES\n",
        "# Numpy works with multi dimentional arrays\n",
        "# This is an open source library which is built on python and C\n",
        "# The kinds of operations on arrays numpy supports are :\n",
        "## Array initialization\n",
        "## Array Slicing\n",
        "## Array Reshaping\n",
        "## Supports zero , one and two (matrix) dimentional arrays\n",
        "## Array join , Array Split"
      ],
      "metadata": {
        "id": "8a7J_O3Kfr-Y"
      },
      "execution_count": null,
      "outputs": []
    },
    {
      "cell_type": "code",
      "source": [
        "#Installing numpy\n",
        "!pip install numpy"
      ],
      "metadata": {
        "id": "6gMgkdP5hLMN"
      },
      "execution_count": null,
      "outputs": []
    },
    {
      "cell_type": "code",
      "source": [
        "import numpy as np\n",
        "\n",
        "#Function to create numpy arrays - numpy.array()\n",
        "#Two ways to create numpy arrays - 1.Passing a list , 2. Passing a tuple\n",
        "\n",
        "#1. Passing a tuple\n",
        "npobj = np.array((1,2,3,4,5,6,7,8,9))\n",
        "print(npobj)\n",
        "print(type(npobj)) # N-Dimentional array\n",
        "\n",
        "#2. Passing a list\n",
        "npobj = np.array([1,2,3,4,5,6,7,8,9])\n",
        "print(npobj)\n",
        "print(type(npobj)) # N-Dimentional array"
      ],
      "metadata": {
        "colab": {
          "base_uri": "https://localhost:8080/"
        },
        "id": "g4DkW0WyhgpA",
        "outputId": "33521a6e-ef5d-45c9-c663-83d277b7dbf6"
      },
      "execution_count": null,
      "outputs": [
        {
          "output_type": "stream",
          "name": "stdout",
          "text": [
            "[1 2 3 4 5 6 7 8 9]\n",
            "<class 'numpy.ndarray'>\n",
            "[1 2 3 4 5 6 7 8 9]\n",
            "<class 'numpy.ndarray'>\n"
          ]
        }
      ]
    },
    {
      "cell_type": "markdown",
      "source": [
        " **Dimensions of a Numpy Array**\n",
        "\n",
        " **To check the dimensions of a numpy array we make use of the attribute 'ndim'**\n",
        "\n",
        " *The kinds of Arrays that can be created are :*\n",
        "\n",
        " Zero Dimensional Array\n",
        " One Dimensional Array\n",
        " Two Dimensional Array (basically a matrix)"
      ],
      "metadata": {
        "id": "a-nqFu1Cjf3P"
      }
    },
    {
      "cell_type": "code",
      "source": [
        "# 1. Zero Dimensional Array\n",
        "\n",
        "import numpy as np\n",
        "\n",
        "zero_dim_arr = np.array(42)\n",
        "\n",
        "print(zero_dim_arr)\n",
        "print(type(zero_dim_arr))\n",
        "print(f\"Dimension : {zero_dim_arr.ndim}\")"
      ],
      "metadata": {
        "colab": {
          "base_uri": "https://localhost:8080/"
        },
        "id": "glyH6ZL8joRt",
        "outputId": "da4fe946-d389-4eb9-c930-ac0984050cbe"
      },
      "execution_count": null,
      "outputs": [
        {
          "output_type": "stream",
          "name": "stdout",
          "text": [
            "42\n",
            "<class 'numpy.ndarray'>\n",
            "Dimension : 0\n"
          ]
        }
      ]
    },
    {
      "cell_type": "code",
      "source": [
        "# 2. One Dimensional Array\n",
        "\n",
        "import numpy as np\n",
        "\n",
        "one_dim_arr = np.array([1, 2, 3, 4, 5])\n",
        "\n",
        "print(one_dim_arr)\n",
        "print(type(one_dim_arr))\n",
        "print(f\"Dimension : {one_dim_arr.ndim}\")"
      ],
      "metadata": {
        "colab": {
          "base_uri": "https://localhost:8080/"
        },
        "id": "aMjGZ2vckgus",
        "outputId": "1fa9d954-43b0-4ce3-d074-300287995444"
      },
      "execution_count": null,
      "outputs": [
        {
          "output_type": "stream",
          "name": "stdout",
          "text": [
            "[1 2 3 4 5]\n",
            "<class 'numpy.ndarray'>\n",
            "Dimension : 1\n"
          ]
        }
      ]
    },
    {
      "cell_type": "code",
      "source": [
        "# 3. Two Dimensional Array\n",
        "\n",
        "import numpy as np\n",
        "\n",
        "two_dim_arr = np.array( [ [1,2,3,4],[5,6,7,8] ] ) # This should always be structured\n",
        "print(two_dim_arr)\n",
        "print(type(two_dim_arr))\n",
        "print(f\"Dimension : {two_dim_arr.ndim}\")"
      ],
      "metadata": {
        "colab": {
          "base_uri": "https://localhost:8080/"
        },
        "id": "DFzUGLWKkpg7",
        "outputId": "e4430ec5-b327-4d3f-eba7-587ff6152062"
      },
      "execution_count": null,
      "outputs": [
        {
          "output_type": "stream",
          "name": "stdout",
          "text": [
            "[[1 2 3 4]\n",
            " [5 6 7 8]]\n",
            "<class 'numpy.ndarray'>\n",
            "Dimension : 2\n"
          ]
        }
      ]
    },
    {
      "cell_type": "markdown",
      "source": [
        "### Initializing an Array"
      ],
      "metadata": {
        "id": "1gjIt2H3mPz2"
      }
    },
    {
      "cell_type": "code",
      "source": [
        "# Initializing an array\n",
        "\n",
        "# To Initialize an empty array in numpy we use numpy.zeros() function where inside params we have (rows,columns)\n",
        "\n",
        "import numpy as np\n",
        "\n",
        "initArray = np.zeros( [3,4] )\n",
        "print(initArray)\n",
        "print(type(initArray))\n",
        "print(f\"Dimension : {initArray.ndim}\")\n",
        "\n",
        "# Initialize this array with some values using loops\n",
        "# Make use of np.shape() - Shape is used to get elements/whole list inside matrix\n",
        "\n",
        "arr1 = np.zeros( [2,2] )\n",
        "for i in range(arr1.shape[0]):\n",
        "  for j in range(arr1.shape[1]):\n",
        "    arr1[i,j] = (i+1) * (j+1)\n",
        "\n",
        "print(arr1)"
      ],
      "metadata": {
        "colab": {
          "base_uri": "https://localhost:8080/"
        },
        "id": "AVBUh8DemU-8",
        "outputId": "accfb337-c854-42e9-d4a5-1696f4294326"
      },
      "execution_count": null,
      "outputs": [
        {
          "output_type": "stream",
          "name": "stdout",
          "text": [
            "[[0. 0. 0. 0.]\n",
            " [0. 0. 0. 0.]\n",
            " [0. 0. 0. 0.]]\n",
            "<class 'numpy.ndarray'>\n",
            "Dimension : 2\n",
            "[[1. 2.]\n",
            " [2. 4.]]\n"
          ]
        }
      ]
    },
    {
      "cell_type": "markdown",
      "source": [
        "### Data Types in Numpy"
      ],
      "metadata": {
        "id": "ZEqqs7jGo9QP"
      }
    },
    {
      "cell_type": "code",
      "source": [
        "# Kinds of dtypes supported in NumPy:\n",
        "\n",
        "# Code  | Description\n",
        "# -----------------------------------\n",
        "# b     | Boolean\n",
        "# u     | Unsigned Integer\n",
        "# m     | Timedelta64\n",
        "# M     | Datetime64\n",
        "# U     | Unicode String\n",
        "# i     | Signed Integer\n",
        "# f     | Floating Point\n",
        "# c     | Complex Floating Point\n",
        "# O     | Object\n",
        "\n",
        "# To Determine the kind if data the array is holding , we use the 'dtype' attrubute\n",
        "\n",
        "import numpy as np\n",
        "\n",
        "\n",
        "int_arr = np.array( [1,2,4] )\n",
        "print(int_arr)\n",
        "print(int_arr.dtype) # int64\n",
        "\n",
        "\n",
        "str_arr = np.array( [\"hello\" , \"world\"] )\n",
        "print(str_arr)\n",
        "print(str_arr.dtype) # <U5 - U(Unicode String) , 5(The maximum characters inside string model)\n",
        "\n"
      ],
      "metadata": {
        "colab": {
          "base_uri": "https://localhost:8080/"
        },
        "id": "3gxL9XJApCZc",
        "outputId": "311afb2b-502e-4972-8114-307c17c7a16e"
      },
      "execution_count": null,
      "outputs": [
        {
          "output_type": "stream",
          "name": "stdout",
          "text": [
            "[1 2 4]\n",
            "int64\n",
            "['hello' 'world']\n",
            "<U5\n"
          ]
        }
      ]
    },
    {
      "cell_type": "code",
      "source": [
        "# Type conversion in numpy array\n",
        "# The function used for type conversion is \"astype()\"\n",
        "\n",
        "import numpy as np\n",
        "\n",
        "typearray = np.array([\"1\",\"2\",\"3\",\"4\",\"5\"])\n",
        "print(typearray)\n",
        "print(typearray.dtype)\n",
        "type2array = typearray.astype(\"i\")\n",
        "print(type2array)\n",
        "print(type2array.dtype)\n",
        "\n",
        "\n",
        "type3array = np.array([1,2,3,4,5,6])\n",
        "typestrarray = type3array.astype(\"S\")\n",
        "print(typestrarray)\n",
        "print(typestrarray.dtype)\n",
        "\n",
        "# Using dtype() to convert\n",
        "type_array = np.array([\"abs\",\"asas\",\"wer\",\"asas\"] , dtype = \"S4\")\n",
        "print(type_array)\n",
        "print(type_array.dtype)\n"
      ],
      "metadata": {
        "colab": {
          "base_uri": "https://localhost:8080/"
        },
        "id": "V05FWywG2aB9",
        "outputId": "89521cfa-d7ca-4f17-cd0d-86c2c5f121b3"
      },
      "execution_count": null,
      "outputs": [
        {
          "output_type": "stream",
          "name": "stdout",
          "text": [
            "['1' '2' '3' '4' '5']\n",
            "<U1\n",
            "[1 2 3 4 5]\n",
            "int32\n",
            "[b'1' b'2' b'3' b'4' b'5' b'6']\n",
            "|S21\n",
            "[b'abs' b'asas' b'wer' b'asas']\n",
            "|S4\n"
          ]
        }
      ]
    },
    {
      "cell_type": "code",
      "source": [
        "# Type declarations array one by one\n",
        "\n",
        "booleanarray = np.array([True,False,True,False])\n",
        "print(booleanarray)\n",
        "print(booleanarray.dtype)\n",
        "\n",
        "intarray = np.array([1,2,3,4,5])\n",
        "print(intarray)\n",
        "print(intarray.dtype)\n",
        "\n",
        "strarray = np.array([\"a\",\"b\",\"c\",\"d\"])\n",
        "print(strarray)\n",
        "print(strarray.dtype)\n",
        "\n",
        "floatarray = np.array([1.1,2.2,3.3,4.4,5.5])\n",
        "print(floatarray)\n",
        "print(floatarray.dtype)\n",
        "\n",
        "unsignedarray = np.array([1,2,3,4,5,6,7,8] , dtype = \"u2\")\n",
        "print(unsignedarray)\n",
        "print(unsignedarray.dtype)\n",
        "#Explanation : u1 denotes for 8bits\n",
        "#Explanation : u2 denotes for 16bits\n",
        "#Explanation : u4 denotes for 32bits\n",
        "#Explanation : u8 denotes for 64bits\n",
        "\n",
        "complexarray = np.array([1+2j,2+2j],dtype = \"c8\") #c8 is complex64\n",
        "print(complexarray)\n",
        "print(complexarray.dtype)\n",
        "\n",
        "timedeltaarray = np.array([1,2,3,5,6] , dtype = \"m8[D]\")\n",
        "print(timedeltaarray)\n",
        "print(timedeltaarray.dtype)\n",
        "#variations = m8[h], m8[s] for hours and seconds\n",
        "\n",
        "datetimearray = np.array(['2025-08-10' , '2024-09-12'] , dtype = \"M8[D]\")\n",
        "print(datetimearray)\n",
        "print(datetimearray.dtype)\n",
        "#variations = M8[ms] , M8[s] for miliseconds and seconds\n",
        "\n",
        "objectarray = np.array([1,2,3,'Hi',\"Aerospace\",5] , dtype = \"O\")\n",
        "print(objectarray)\n",
        "print(objectarray.dtype)\n",
        "\n",
        "stringarray = np.array([\"Hello\",\"hi\",\"bye\"],dtype = 'S5')\n",
        "print(stringarray)\n",
        "print(stringarray.dtype)"
      ],
      "metadata": {
        "colab": {
          "base_uri": "https://localhost:8080/"
        },
        "id": "TiZ9hHbU4F-0",
        "outputId": "16751fc6-67e8-4c3d-f6a1-ac805c22c501"
      },
      "execution_count": null,
      "outputs": [
        {
          "output_type": "stream",
          "name": "stdout",
          "text": [
            "[ True False  True False]\n",
            "bool\n",
            "[1 2 3 4 5]\n",
            "int64\n",
            "['a' 'b' 'c' 'd']\n",
            "<U1\n",
            "[1.1 2.2 3.3 4.4 5.5]\n",
            "float64\n",
            "[1 2 3 4 5 6 7 8]\n",
            "uint16\n",
            "[1.+2.j 2.+2.j]\n",
            "complex64\n",
            "[1 2 3 5 6]\n",
            "timedelta64[D]\n",
            "['2025-08-10' '2024-09-12']\n",
            "datetime64[D]\n",
            "[1 2 3 'Hi' 'Aerospace' 5]\n",
            "object\n"
          ]
        }
      ]
    },
    {
      "cell_type": "markdown",
      "source": [
        "## Math Operations"
      ],
      "metadata": {
        "id": "zuocknAV7r0-"
      }
    },
    {
      "cell_type": "code",
      "source": [
        "# MATH OPS with numpy arrays\n",
        "\n",
        "import numpy as np\n",
        "\n",
        "matharray = np.array([1,2,3,4,45,3])\n",
        "math2darray = np.array([ [1,2,3,4,5] , [6,7,8,9,10] ])\n",
        "\n",
        "# MATH Functions\n",
        "\n",
        "print(f\"Sum of the 1D array is :\" , np.sum(matharray))\n",
        "print(f\"Mean of the 1D array : {np.mean(matharray)}\")\n",
        "print(f\"Min of the 1D array : {np.min(matharray)}\")\n",
        "print(f\"Max of the 1D array : {np.max(matharray)}\")\n",
        "print(f\"Product of the 1D array : {np.prod(matharray)}\")\n",
        "print(f\"Standard Deviation of the 1D array : {np.std(matharray)}\")\n",
        "\n",
        "\n",
        "print(f\"Column wise sum in 2D array : {np.sum(math2darray, axis = 0)}\") #column wise sum\n",
        "print(f\"Row wise sum in 2D array: {np.sum(math2darray, axis = 1)}\") #row wise sum\n",
        "\n",
        "print(f\"Column wise product in 2D array: {np.prod(math2darray, axis = 0)}\") #column wise prod\n",
        "print(f\"Row wise product in 2D array : {np.prod(math2darray, axis = 1)}\") #row wise prod\n",
        "\n",
        "\n",
        "# cumsum() #for cumulative sum\n",
        "# cumprod() #for cumulative prod\n",
        "\n",
        "print(f\"cumulative Sum  1D array: {np.cumsum(matharray)}\")\n",
        "print(f\"cumulative Product 1D array: {np.cumprod(matharray)}\")\n",
        "print(f\"Normal Sum 1D array : {np.sum(matharray)}\")\n",
        "\n",
        "# Absolute and Rounding of array elements in Numpy\n",
        "\n",
        "examplearray = np.array([-1.7,2.4,3.6,-4.8])\n",
        "\n",
        "print(f\"Absolute of this array : {np.abs(examplearray)}\")\n",
        "print(f\"Round of this array : {np.round(examplearray)}\")\n",
        "print(f\"Floor of this array : {np.floor(examplearray)}\")\n",
        "print(f\"Ceiling of this array : {np.ceil(examplearray)}\")"
      ],
      "metadata": {
        "colab": {
          "base_uri": "https://localhost:8080/"
        },
        "id": "OXOEueAp7urq",
        "outputId": "600c5d79-cfca-4fb6-a658-99ed974abdc1"
      },
      "execution_count": null,
      "outputs": [
        {
          "output_type": "stream",
          "name": "stdout",
          "text": [
            "Sum of the 1D array is : 58\n",
            "Mean of the 1D array : 9.666666666666666\n",
            "Min of the 1D array : 1\n",
            "Max of the 1D array : 45\n",
            "Product of the 1D array : 3240\n",
            "Standard Deviation of the 1D array : 15.828946760778354\n",
            "Column wise sum in 2D array : [ 7  9 11 13 15]\n",
            "Row wise sum in 2D array: [15 40]\n",
            "Column wise product in 2D array: [ 6 14 24 36 50]\n",
            "Row wise product in 2D array : [  120 30240]\n",
            "cumulative Sum  1D array: [ 1  3  6 10 55 58]\n",
            "cumulative Product 1D array: [   1    2    6   24 1080 3240]\n",
            "Normal Sum 1D array : 58\n",
            "Absolute of this array : [1.7 2.4 3.6 4.8]\n",
            "Round of this array : [-2.  2.  4. -5.]\n",
            "Floor of this array : [-2.  2.  3. -5.]\n",
            "Ceiling of this array : [-1.  3.  4. -4.]\n"
          ]
        }
      ]
    },
    {
      "cell_type": "markdown",
      "source": [
        "## Array Indexing in Numpy"
      ],
      "metadata": {
        "id": "9Jwxess8C3DN"
      }
    },
    {
      "cell_type": "code",
      "source": [
        "narray = np.array([1,2,3,4,5,6])\n",
        "# Numpy Arrays do maintain positive and negative indexes\n",
        "\n",
        "# Indexing in 1D array\n",
        "print(narray[-2])\n",
        "print(narray[1])\n",
        "\n",
        "# Indexing in 2D array\n",
        "n2darray = np.array([[1,2,3],[4,5,6]])\n",
        "print(n2darray)\n",
        "\n",
        "print(n2darray[0][0]) #first [] denotes indexed row and second [] denotes indexed column\n",
        "print(n2darray[0][1])\n",
        "print(n2darray[0][2])\n",
        "print(n2darray[1][0])\n",
        "print(n2darray[1][1])\n",
        "print(n2darray[1][2])\n",
        "\n",
        "# Indexing in a 3D Array\n",
        "n3darray = np.array([ [ [1,2,3] , [4,5,6] ] , [ [7,8,9] , [10,11,12] ] ])\n",
        "# n3darray = np.array([[[],[]],[[],[]]])\n",
        "print(n3darray)\n",
        "\n",
        "print(n3darray[0][0][0])\n",
        "print(n3darray[0][0][1])\n",
        "print(n3darray[0][0][2])\n",
        "print(n3darray[0][1][0])\n",
        "print(n3darray[0][1][1])\n",
        "print(n3darray[0][1][2])\n",
        "\n",
        "print(n3darray[1][0][0])\n",
        "print(n3darray[1][0][1])\n",
        "print(n3darray[1][0][2])\n",
        "print(n3darray[1][1][0])\n",
        "print(n3darray[1][1][1])\n",
        "print(n3darray[1][1][2])"
      ],
      "metadata": {
        "colab": {
          "base_uri": "https://localhost:8080/"
        },
        "id": "EeDU0fi6DEPg",
        "outputId": "81480cd0-1858-4ab0-e1d7-22f5756d45d0"
      },
      "execution_count": null,
      "outputs": [
        {
          "output_type": "stream",
          "name": "stdout",
          "text": [
            "5\n",
            "2\n",
            "[[1 2 3]\n",
            " [4 5 6]]\n",
            "1\n",
            "2\n",
            "3\n",
            "4\n",
            "5\n",
            "6\n",
            "[[[ 1  2  3]\n",
            "  [ 4  5  6]]\n",
            "\n",
            " [[ 7  8  9]\n",
            "  [10 11 12]]]\n",
            "1\n",
            "2\n",
            "3\n",
            "4\n",
            "5\n",
            "6\n",
            "7\n",
            "8\n",
            "9\n",
            "10\n",
            "11\n",
            "12\n"
          ]
        }
      ]
    },
    {
      "cell_type": "markdown",
      "source": [
        "**Array Indexing with negative indexes**"
      ],
      "metadata": {
        "id": "W4N1A_z4Izow"
      }
    },
    {
      "cell_type": "code",
      "source": [
        "# Numpy arrays also follow negative indexes like normal arrays or Strings\n",
        "import numpy as np\n",
        "\n",
        "n3darray = np.array([[[1,2,3],[4,5,6]],[[7,8,9],[10,11,12]]])\n",
        "\n",
        "# Fetch the element 8 with negative indexes\n",
        "\n",
        "print(n3darray[-1][-2][-2])\n",
        "\n",
        "print(n3darray[1][0][1])\n",
        "\n"
      ],
      "metadata": {
        "colab": {
          "base_uri": "https://localhost:8080/"
        },
        "id": "c1wK4Lx8I-nk",
        "outputId": "ecb351ae-6f0e-46f5-c6f8-c5198e4f7f3c"
      },
      "execution_count": null,
      "outputs": [
        {
          "output_type": "stream",
          "name": "stdout",
          "text": [
            "8\n",
            "8\n"
          ]
        }
      ]
    },
    {
      "cell_type": "markdown",
      "source": [
        "## Numpy Array Slicing"
      ],
      "metadata": {
        "id": "XfIqwsYpK7Dq"
      }
    },
    {
      "cell_type": "code",
      "source": [
        "#Numpy array slicing is performed very similarly as normal arrays and strings\n",
        "\n",
        "slicearray = np.array([20,25,30,35,40,45,50,55,60])\n",
        "\n",
        "print(slicearray[2:4]) #slicing with 2 parameters\n",
        "print(slicearray[3:8])\n",
        "\n",
        "print(slicearray[:6]) # start to 5th index\n",
        "print(slicearray[2:]) # 2nd to end\n",
        "\n",
        "print(slicearray[::2]) # slicing with 3 parameters and third is used to skip (values with 10 divisible)\n",
        "\n",
        "print(slicearray[1::2]) # Here starting with first index and going till end with skip of 1\n",
        "\n",
        "print(slicearray[1::-1]) # 1st se start hua end tag jayega and -1 ka skip means reverse mai jayega toh reverse mai do elements hai 20 hence array is [25,20]\n",
        "\n",
        "print(slicearray[-3:-1]) # Negative slicing\n",
        "\n",
        "\n",
        "# Slicing in 2D array\n",
        "\n",
        "slice2darray = np.array([[1,2,3,4,5] , [6,7,8,9,10]]) # The first bracket [] grabs the array inside 2d array and second bracket [] is used to iterate over the selected array\n",
        "\n",
        "print(slice2darray[0][0:]) # This will print first array in 2d array and print all the elements\n",
        "\n",
        "print(slice2darray[0:][0:]) # Prints the whole 2d array\n",
        "\n",
        "print(slice2darray[0:2 , 1 : 4])\n",
        "\n",
        "\n",
        "\n",
        "\n"
      ],
      "metadata": {
        "colab": {
          "base_uri": "https://localhost:8080/"
        },
        "id": "jsX4nx7dK9OM",
        "outputId": "44e7c1cd-1ac4-4934-e861-af8969a3c17f"
      },
      "execution_count": null,
      "outputs": [
        {
          "output_type": "stream",
          "name": "stdout",
          "text": [
            "[30 35]\n",
            "[35 40 45 50 55]\n",
            "[20 25 30 35 40 45]\n",
            "[30 35 40 45 50 55 60]\n",
            "[20 30 40 50 60]\n",
            "[25 35 45 55]\n",
            "[25 20]\n",
            "[50 55]\n",
            "[1 2 3 4 5]\n",
            "[[ 1  2  3  4  5]\n",
            " [ 6  7  8  9 10]]\n",
            "[[2 3 4]\n",
            " [7 8 9]]\n"
          ]
        }
      ]
    },
    {
      "cell_type": "markdown",
      "source": [
        "## Numpy array shape"
      ],
      "metadata": {
        "id": "jgziGjikO615"
      }
    },
    {
      "cell_type": "code",
      "source": [
        "# Shape in a numpy array is the exact number of elements in each direction\n",
        "# We determine the shape of a numpy array through array.shape attribute\n",
        "\n",
        "import numpy as np\n",
        "\n",
        "n_zero_array = np.array(1)\n",
        "print(n_zero_array)\n",
        "print(n_zero_array.shape)\n",
        "print(n_zero_array.ndim)\n",
        "\n",
        "n_one_array = np.array([1,2,3,4,5])\n",
        "print(n_one_array)\n",
        "print(n_one_array.shape)\n",
        "print(n_one_array.ndim)\n",
        "\n",
        "n_two_array = np.array([[1,2,3,10] , [4,5,6,9]])\n",
        "print(n_two_array)\n",
        "print(n_two_array.shape) # (2,4) Here the first element is refering the rows and columns\n",
        "print(n_two_array.ndim)\n",
        "\n",
        "n_three_array = np.array([[[1,2,3],[4,5,6]],[[7,8,9],[10,11,12]]])\n",
        "print(n_three_array)\n",
        "print(n_three_array.shape) # So (2,2,3) means: 👉 You have 2 blocks,👉 Each block has 2 rows, 👉 Each row has 3 columns.\n",
        "print(n_three_array.ndim)\n"
      ],
      "metadata": {
        "colab": {
          "base_uri": "https://localhost:8080/"
        },
        "id": "6M_CdOCkO-tE",
        "outputId": "a24b46ff-7db1-4da0-e39a-9dc9dd8c4500"
      },
      "execution_count": null,
      "outputs": [
        {
          "output_type": "stream",
          "name": "stdout",
          "text": [
            "1\n",
            "()\n",
            "0\n",
            "[1 2 3 4 5]\n",
            "(5,)\n",
            "1\n",
            "[[ 1  2  3 10]\n",
            " [ 4  5  6  9]]\n",
            "(2, 4)\n",
            "2\n",
            "[[[ 1  2  3]\n",
            "  [ 4  5  6]]\n",
            "\n",
            " [[ 7  8  9]\n",
            "  [10 11 12]]]\n",
            "(2, 2, 3)\n",
            "3\n"
          ]
        }
      ]
    },
    {
      "cell_type": "markdown",
      "source": [
        "## Reshaping a Numpy array"
      ],
      "metadata": {
        "id": "rU5UvwEuRTXS"
      }
    },
    {
      "cell_type": "markdown",
      "source": [
        "To reshape a numpy array, we make use of the reshape() function\n",
        "\n",
        "Reshaping can help us in chaging the dimensions of an array\n",
        "\n",
        "We can increase the dimensions/ decrease the dimensions(Flattening)\n"
      ],
      "metadata": {
        "id": "Vc7Se74bRlRl"
      }
    },
    {
      "cell_type": "code",
      "source": [
        "# Reshaping an one dimensional array into a 2D array\n",
        "\n",
        "import numpy as np\n",
        "\n",
        "nbaseaaray = np.array([1,2,3,4,5,6])\n",
        "\n",
        "print(nbaseaaray)\n",
        "print(nbaseaaray.shape)\n",
        "\n",
        "# nreshapedarray = nbaseaaray.reshape(2,3) # Here we are converting the 1D array into 2D array\n",
        "\n",
        "# print(nreshapedarray)\n",
        "# print(nreshapedarray.shape)\n",
        "\n",
        "# nreshapedarray = nbaseaaray.reshape(2,3,1) # Here we are converting the 1D array into 3D array\n",
        "#nreshapedarraym = nbase3darray.reshape(2,3,2)\n",
        "#print(nreshapedarraym)\n",
        "\n",
        "\n",
        "# print(nreshapedarray)\n",
        "# print(nreshapedarray.shape)\n",
        "\n",
        "# Flattening\n",
        "\n",
        "nbase3darray = np.array([[[1,2,3],[4,5,6]],[[7,8,9],[10,11,12]]])\n",
        "print(nbase3darray)\n",
        "nres3array = nbase3darray.reshape(-1) # -1 used to flatten the selected array\n",
        "print(nres3array)\n",
        "\n"
      ],
      "metadata": {
        "colab": {
          "base_uri": "https://localhost:8080/"
        },
        "id": "UAGdinWoRpLA",
        "outputId": "35d53240-a105-487c-f249-6489c17056ff"
      },
      "execution_count": null,
      "outputs": [
        {
          "output_type": "stream",
          "name": "stdout",
          "text": [
            "[1 2 3 4 5 6]\n",
            "(6,)\n",
            "[[[ 1  2  3]\n",
            "  [ 4  5  6]]\n",
            "\n",
            " [[ 7  8  9]\n",
            "  [10 11 12]]]\n",
            "[ 1  2  3  4  5  6  7  8  9 10 11 12]\n",
            "[[[ 1  2]\n",
            "  [ 3  4]\n",
            "  [ 5  6]]\n",
            "\n",
            " [[ 7  8]\n",
            "  [ 9 10]\n",
            "  [11 12]]]\n"
          ]
        }
      ]
    },
    {
      "cell_type": "markdown",
      "source": [
        "## Iterating Through Numpy Array"
      ],
      "metadata": {
        "id": "ukmlppdwUNR5"
      }
    },
    {
      "cell_type": "code",
      "source": [
        "import numpy as np\n",
        "\n",
        "noneitarray = np.array([2,3,4,5])\n",
        "for i in noneitarray:\n",
        "  print(i)\n",
        "\n",
        "ntwoitarray = np.array([ [1,2,3] , [2,3,4] ])\n",
        "for i in ntwoitarray:\n",
        "  print(i)\n",
        "\n",
        "nthreearray = np.array([ [ [1,2,3] , [4,5,6] ] , [ [7,8,9] , [10,11,12] ] ])\n",
        "for i in nthreearray:\n",
        "  print(i)"
      ],
      "metadata": {
        "colab": {
          "base_uri": "https://localhost:8080/"
        },
        "id": "jUzorq5rUQSZ",
        "outputId": "8901389a-5fcc-4017-becd-3f6be13e60af"
      },
      "execution_count": null,
      "outputs": [
        {
          "output_type": "stream",
          "name": "stdout",
          "text": [
            "2\n",
            "3\n",
            "4\n",
            "5\n",
            "[1 2 3]\n",
            "[2 3 4]\n",
            "[[1 2 3]\n",
            " [4 5 6]]\n",
            "[[ 7  8  9]\n",
            " [10 11 12]]\n"
          ]
        }
      ]
    },
    {
      "cell_type": "markdown",
      "source": [
        "## Joining / Adding 2 numpy arrays"
      ],
      "metadata": {
        "id": "32kTIzLbV4V8"
      }
    },
    {
      "cell_type": "code",
      "source": [
        "# To join 2 numpy arrays we make use of the concatenate() method\n",
        "\n",
        "import numpy as np\n",
        "\n",
        "arr1 = np.array([1,2,3])\n",
        "arr2 = np.array([4,5,6])\n",
        "\n",
        "arr3 = np.concatenate((arr1,arr2))\n",
        "print(arr3)\n",
        "\n",
        "# Addition of arrays through stack\n",
        "# stack()\n",
        "# vstack()\n",
        "# hstack()\n",
        "# dstack()\n",
        "# column_stack()\n",
        "\n",
        "# Using Stack()\n",
        "\n",
        "n1 = np.array([1,2,3,4,5])\n",
        "n2 = np.array([5,6,7,8,9])\n",
        "n4 = np.array([ [1,2,3] , [4,5,6] ])\n",
        "n5 = np.array([[\"a\",\"b\",\"c\"],[\"d\",\"e\",\"f\"]])\n",
        "\n",
        "resultant_aray = np.stack((n1,n2))\n",
        "n3 = np.stack((n1,n2),axis=0) # axis 1 will make a vertical arrangement and 0 for horizontal\n",
        "\n",
        "print(\"\\n\",n3)\n",
        "print(\"\\n\",resultant_aray)\n",
        "\n",
        "# Using vStack() - we can change the axis of stack and in normal above stack we can change the orientation\n",
        "\n",
        "resultantvarray = np.vstack((n1,n2))\n",
        "print(\"\\n\",resultantvarray)\n",
        "\n",
        "# Using hStack() - only have the orientation to arrange in horizontal way\n",
        "\n",
        "resultantharray = np.hstack((n1,n2))\n",
        "print(\"\\n\",resultantharray)\n",
        "\n",
        "# Using dStack() - creates 3D stack height wise\n",
        "resultantdarray = np.dstack((n1,n2))\n",
        "result1 = np.dstack((n4,n5))\n",
        "print(\"\\n\",result1)\n",
        "print(\"\\n\" , resultantdarray)\n",
        "print(resultantdarray.shape)\n",
        "\n",
        "# Using columnStack() - 2D array height wise\n",
        "resultantcarray = np.column_stack((n1,n2))\n",
        "result2 = np.column_stack((n4,n5))\n",
        "print(\"\\n\",result2)\n",
        "print(\"\\n\",resultantcarray)\n",
        "print(resultantcarray.shape)\n"
      ],
      "metadata": {
        "colab": {
          "base_uri": "https://localhost:8080/"
        },
        "id": "s6rWnQCkV8i3",
        "outputId": "32b9a851-6284-4604-ecfb-dccaf032325a"
      },
      "execution_count": null,
      "outputs": [
        {
          "output_type": "stream",
          "name": "stdout",
          "text": [
            "[1 2 3 4 5 6]\n",
            "\n",
            " [[1 2 3 4 5]\n",
            " [5 6 7 8 9]]\n",
            "\n",
            " [[1 2 3 4 5]\n",
            " [5 6 7 8 9]]\n",
            "\n",
            " [[1 2 3 4 5]\n",
            " [5 6 7 8 9]]\n",
            "\n",
            " [1 2 3 4 5 5 6 7 8 9]\n",
            "\n",
            " [[['1' 'a']\n",
            "  ['2' 'b']\n",
            "  ['3' 'c']]\n",
            "\n",
            " [['4' 'd']\n",
            "  ['5' 'e']\n",
            "  ['6' 'f']]]\n",
            "\n",
            " [[[1 5]\n",
            "  [2 6]\n",
            "  [3 7]\n",
            "  [4 8]\n",
            "  [5 9]]]\n",
            "(1, 5, 2)\n",
            "\n",
            " [['1' '2' '3' 'a' 'b' 'c']\n",
            " ['4' '5' '6' 'd' 'e' 'f']]\n",
            "\n",
            " [[1 5]\n",
            " [2 6]\n",
            " [3 7]\n",
            " [4 8]\n",
            " [5 9]]\n",
            "(5, 2)\n"
          ]
        }
      ]
    },
    {
      "cell_type": "markdown",
      "source": [
        "## Splitting Numpy arrays"
      ],
      "metadata": {
        "id": "F_z1OB2k9Z-e"
      }
    },
    {
      "cell_type": "code",
      "source": [
        "# To split numpy array we make use of the numpy.split() method\n",
        "\n",
        "# Splitting a 1D array\n",
        "import numpy as np\n",
        "\n",
        "n1 = np.array([1,2,3,4,5,6,7])\n",
        "\n",
        "resarray = np.array_split(n1,2)\n",
        "print(resarray)"
      ],
      "metadata": {
        "colab": {
          "base_uri": "https://localhost:8080/"
        },
        "id": "pB2sMEK69gGA",
        "outputId": "37ffcdbc-fc26-4358-8527-a1b4c7bcf51d"
      },
      "execution_count": null,
      "outputs": [
        {
          "output_type": "stream",
          "name": "stdout",
          "text": [
            "[array([1, 2, 3, 4]), array([5, 6, 7])]\n"
          ]
        }
      ]
    },
    {
      "cell_type": "code",
      "source": [
        "# Accessing the splitted arrays\n",
        "# make use of the indexes\n",
        "\n",
        "import numpy as np\n",
        "\n",
        "n1 = np.array([1,2,3,4,5,6,7])\n",
        "\n",
        "resarray = np.array_split(n1,2) # The second params is used to divide in that number of arrays\n",
        "print(resarray)\n",
        "\n",
        "print(\"\\n\",resarray[0])\n",
        "print(resarray[1])\n",
        "print(type(resarray))"
      ],
      "metadata": {
        "colab": {
          "base_uri": "https://localhost:8080/"
        },
        "id": "RLx7mczr-QZt",
        "outputId": "6f185efa-98a0-4c25-9b6b-98b767ca040e"
      },
      "execution_count": null,
      "outputs": [
        {
          "output_type": "stream",
          "name": "stdout",
          "text": [
            "[array([1, 2, 3, 4]), array([5, 6, 7])]\n",
            "\n",
            " [1 2 3 4]\n",
            "[5 6 7]\n",
            "<class 'list'>\n"
          ]
        }
      ]
    },
    {
      "cell_type": "code",
      "source": [
        "# Splitting a 2D array\n",
        "\n",
        "import numpy as np\n",
        "\n",
        "n2 = np.array([ [1,2,3,4] , [5,6,7,8] ])\n",
        "\n",
        "res_array = np.array_split(n2,2)\n",
        "print(res_array)"
      ],
      "metadata": {
        "colab": {
          "base_uri": "https://localhost:8080/"
        },
        "id": "F1hwls4h-o0h",
        "outputId": "6895403a-c3a0-4199-909d-3597684bc02b"
      },
      "execution_count": null,
      "outputs": [
        {
          "output_type": "stream",
          "name": "stdout",
          "text": [
            "[array([[1, 2, 3, 4]]), array([[5, 6, 7, 8]])]\n"
          ]
        }
      ]
    },
    {
      "cell_type": "markdown",
      "source": [
        "## Sorting A Numpy array"
      ],
      "metadata": {
        "id": "p2JDupmNBavi"
      }
    },
    {
      "cell_type": "code",
      "source": [
        "# To sort a numpy array we make use of the .sort() function\n",
        "\n",
        "import numpy as np\n",
        "\n",
        "# 1D ARRAY SORTING\n",
        "\n",
        "n1 = np.array([21,34,22,1,45,31])\n",
        "n2 = np.array([\"aww\" , \"sab\" , \"wswsc\" , \"d\" , \"e\" , \"f\"])\n",
        "\n",
        "print(\"Unsorted array : \",n1)\n",
        "print(\"Sorted Array : \",np.sort(n1))\n",
        "\n",
        "print(\"\\nUnsorted array : \",n2)\n",
        "print(\"Sorted Array : \",np.sort(n2))\n",
        "\n",
        "\n",
        "# 2D SORTING - It sorts 1D array wise not whole 2D array\n",
        "\n",
        "n3 = np.array([ [1,34,43,12] , [44,33,4,55] ])\n",
        "\n",
        "print(\"\\nUnsorted 2D Array : \\n\",n3)\n",
        "print(\"Sorted 2D Array : \\n\",np.sort(n3))"
      ],
      "metadata": {
        "colab": {
          "base_uri": "https://localhost:8080/"
        },
        "id": "4JLzzHM-BgUB",
        "outputId": "4955971e-fb65-4994-e6d0-38c063c999f6"
      },
      "execution_count": null,
      "outputs": [
        {
          "output_type": "stream",
          "name": "stdout",
          "text": [
            "Unsorted array :  [21 34 22  1 45 31]\n",
            "Sorted Array :  [ 1 21 22 31 34 45]\n",
            "\n",
            "Unsorted array :  ['aww' 'sab' 'wswsc' 'd' 'e' 'f']\n",
            "Sorted Array :  ['aww' 'd' 'e' 'f' 'sab' 'wswsc']\n",
            "\n",
            "Unsorted 2D Array : \n",
            " [[ 1 34 43 12]\n",
            " [44 33  4 55]]\n",
            "Sorted 2D Array : \n",
            " [[ 1 12 34 43]\n",
            " [ 4 33 44 55]]\n"
          ]
        }
      ]
    },
    {
      "cell_type": "code",
      "source": [
        "# Finding an element's index from an array\n",
        "# We make use of where() function to do it\n",
        "\n",
        "import numpy as np\n",
        "\n",
        "n1 = np.array([1,2,34,65,33,5,6,7,33,33])\n",
        "\n",
        "nresval = np.where(n1 == 33)\n",
        "print(nresval)"
      ],
      "metadata": {
        "colab": {
          "base_uri": "https://localhost:8080/"
        },
        "id": "Wsc73yHJDtjR",
        "outputId": "9f023d8d-1c8a-41db-ec57-de72fb14f5a8"
      },
      "execution_count": null,
      "outputs": [
        {
          "output_type": "stream",
          "name": "stdout",
          "text": [
            "(array([4, 8, 9]),)\n"
          ]
        }
      ]
    },
    {
      "cell_type": "markdown",
      "source": [
        "# Pandas"
      ],
      "metadata": {
        "id": "Lx1pQebuEaid"
      }
    },
    {
      "cell_type": "markdown",
      "metadata": {
        "id": "82727e80"
      },
      "source": [
        "Pandas is a powerful open-source data analysis and manipulation library for Python. It is built on top of the NumPy library and provides data structures like DataFrames and Series, which are essential for working with structured data.\n",
        "\n",
        "**Key Features:**\n",
        "\n",
        "*   **DataFrame:** A 2-dimensional labeled data structure with columns of potentially different types. It's similar to a spreadsheet or SQL table.\n",
        "*   **Series:** A 1-dimensional labeled array capable of holding any data type.\n",
        "*   **Data Manipulation:** Provides tools for cleaning, transforming, merging, and reshaping data.\n",
        "*   **Data Analysis:** Offers functionalities for aggregation, filtering, and selecting data.\n",
        "*   **File I/O:** Supports reading and writing data from various file formats like CSV, Excel, SQL databases, etc.\n",
        "\n",
        "**Why use Pandas?**\n",
        "\n",
        "*   **Ease of Use:** Provides intuitive and easy-to-use data structures and functions.\n",
        "*   **Performance:** Optimized for performance, especially for large datasets.\n",
        "*   **Flexibility:** Can handle various types of data and operations.\n",
        "*   **Integration:** Works well with other Python libraries for data visualization and machine learning."
      ]
    },
    {
      "cell_type": "code",
      "source": [
        "!pip install pandas"
      ],
      "metadata": {
        "colab": {
          "base_uri": "https://localhost:8080/"
        },
        "id": "reoMEzRqGcYR",
        "outputId": "fd46b892-ffc6-44e2-bcd6-ded02eedacdf"
      },
      "execution_count": null,
      "outputs": [
        {
          "output_type": "stream",
          "name": "stdout",
          "text": [
            "Requirement already satisfied: pandas in /usr/local/lib/python3.12/dist-packages (2.2.2)\n",
            "Requirement already satisfied: numpy>=1.26.0 in /usr/local/lib/python3.12/dist-packages (from pandas) (2.0.2)\n",
            "Requirement already satisfied: python-dateutil>=2.8.2 in /usr/local/lib/python3.12/dist-packages (from pandas) (2.9.0.post0)\n",
            "Requirement already satisfied: pytz>=2020.1 in /usr/local/lib/python3.12/dist-packages (from pandas) (2025.2)\n",
            "Requirement already satisfied: tzdata>=2022.7 in /usr/local/lib/python3.12/dist-packages (from pandas) (2025.2)\n",
            "Requirement already satisfied: six>=1.5 in /usr/local/lib/python3.12/dist-packages (from python-dateutil>=2.8.2->pandas) (1.17.0)\n"
          ]
        }
      ]
    },
    {
      "cell_type": "code",
      "source": [
        "# Pandas\n",
        "# An open source library which is considered to be one of the most powerful libraries\n",
        "# for data analysis + data manipulation in Python\n",
        "\n",
        "# Pandas is used mainly for data cleaning, reading the data, from small/ large datasets, external CSVs, Excel, JSON etc\n",
        "# and making it relevant for data science"
      ],
      "metadata": {
        "id": "jz6Uq1IxdE6N"
      },
      "execution_count": null,
      "outputs": []
    },
    {
      "cell_type": "markdown",
      "source": [
        "## Pandas Dataframe\n",
        "\n",
        "**Pandas DataFrames are created by pandas.DataFrame() method**\n",
        "\n",
        "**Pandas DataFrames are a form of tabular structured display of data.**\n",
        "\n",
        "**Parameters inlcuded in this DataFrame() method are :**\n",
        "\n",
        "*data = the exact data that you are trying to convert into a dataframe*\n",
        "\n",
        "*index = gives us the index of a specified cell(s)*\n",
        "\n",
        "*dtype = gives us the datatype of each column*\n",
        "\n",
        "*column = to manipulate column labels*\n",
        "\n",
        "*copy = to copy the data into another DataFrame*"
      ],
      "metadata": {
        "id": "h5r6fu9IGvoc"
      }
    },
    {
      "cell_type": "code",
      "source": [
        "import pandas as pd\n",
        "\n",
        "# Below is Mock Data\n",
        "\n",
        "data = {\n",
        "    'Student' : ['Raj', 'Abhishek', 'Debashish', 'Sanket', 'Kalash'],\n",
        "    'Subject' : ['Python', 'Sanskrit', 'JavaScript', 'Java', 'Biology'],\n",
        "    'Marks' : [72,88,2,33,99]\n",
        "}\n",
        "\n",
        "# Now Converting a given dictionary into a dataframe\n",
        "\n",
        "df = pd.DataFrame(data)\n",
        "print(df)\n",
        "\n",
        "# Providing indexes to each row\n",
        "\n",
        "df1 = pd.DataFrame(data , index=['rank1','rank2','rank3','rank4','rank5'])\n",
        "print(\"\\n\\n\",df1)\n",
        "\n",
        "# Accessing these elements (a group of row and column(cell))\n",
        "# To access elements we make use of the pandas.loc() method\n",
        "\n",
        "print(\"\\n\\n\" , df1.loc[\"rank1\" , \"Student\"]) # syntax : loc['row_name','column_name']\n",
        "\n",
        "# We use iloc() method for accessing elements through indexes\n",
        "\n",
        "print(\"\\n\\n\", df1.iloc[2,0]) # syntax : iloc['row_index','column_index']\n",
        "print(\"\\n\\n\", df1.iloc[[2,3],[]])\n",
        "\n",
        "# Accessing the columns :\n",
        "print(\"\\n\\n\")\n",
        "print(\"Columns: \\n\")\n",
        "for col in df1:\n",
        "  print(col)"
      ],
      "metadata": {
        "colab": {
          "base_uri": "https://localhost:8080/"
        },
        "id": "lFk5DfvkHDhL",
        "outputId": "a24e7267-5aa5-4c79-d22c-2e3dca566c2a"
      },
      "execution_count": null,
      "outputs": [
        {
          "output_type": "stream",
          "name": "stdout",
          "text": [
            "     Student     Subject  Marks\n",
            "0        Raj      Python     72\n",
            "1   Abhishek    Sanskrit     88\n",
            "2  Debashish  JavaScript      2\n",
            "3     Sanket        Java     33\n",
            "4     Kalash     Biology     99\n",
            "\n",
            "\n",
            "          Student     Subject  Marks\n",
            "rank1        Raj      Python     72\n",
            "rank2   Abhishek    Sanskrit     88\n",
            "rank3  Debashish  JavaScript      2\n",
            "rank4     Sanket        Java     33\n",
            "rank5     Kalash     Biology     99\n",
            "\n",
            "\n",
            " Raj\n",
            "\n",
            "\n",
            " Debashish\n",
            "\n",
            "\n",
            " Empty DataFrame\n",
            "Columns: []\n",
            "Index: [rank3, rank4]\n",
            "\n",
            "\n",
            "\n",
            "Columns: \n",
            "\n",
            "Student\n",
            "Subject\n",
            "Marks\n"
          ]
        }
      ]
    },
    {
      "cell_type": "markdown",
      "source": [
        "## Pandas DataFrames - Attributes and Methods"
      ],
      "metadata": {
        "id": "eruj9AKDLLOa"
      }
    },
    {
      "cell_type": "code",
      "source": [
        "# dtypes\n",
        "# ndim\n",
        "# index\n",
        "# size\n",
        "# shape\n",
        "# T - Transpose changes rows to columns, columns to rows(2,3) - (3,2)\n",
        "# head() - first 5 rows\n",
        "# tail() - last 5 rows"
      ],
      "metadata": {
        "id": "xuDYsHB4LQGm"
      },
      "execution_count": null,
      "outputs": []
    },
    {
      "cell_type": "code",
      "source": [
        "data = {\n",
        "    'Student' : ['Raj', 'Abhishek', 'Debashish', 'Sanket', 'Kalash','Jacob','King','Jack'],\n",
        "    'Subject' : ['Python', 'Sanskrit', 'JavaScript', 'Java', 'Biology','Sorcery','Hotel management','casino player'],\n",
        "    'Marks' : [72,88,2,33,99,44,56,78]\n",
        "}\n",
        "\n",
        "dataframe2 = pd.DataFrame(data, index = ['Index1','Index2','Index3','Index4','Index5','Index6','Index7','Index8'])\n",
        "\n",
        "print(dataframe2)\n",
        "\n",
        "#Datatypes in the Dataframe\n",
        "\n",
        "print(\"\\n\\nDatatypes in this dataframe\\n\",dataframe2.dtypes)\n",
        "\n",
        "#Dimensions in this Dataframe\n",
        "\n",
        "print(\"\\n\\nDimensions in this dataframe : \",dataframe2.ndim)\n",
        "\n",
        "#Shape in this Dataframe\n",
        "\n",
        "print(\"\\n\\nShape of this dataframe : \",dataframe2.shape)\n",
        "\n",
        "#Index in this Dataframe\n",
        "\n",
        "print(\"\\n\\nIndexes in this dataframe : \",dataframe2.index)\n",
        "\n",
        "#Size in this Dataframe\n",
        "\n",
        "print(\"\\n\\nSize of this dataframe : \",dataframe2.size)\n",
        "\n",
        "#Transpose of this Dataframe\n",
        "\n",
        "print(\"\\n\\nTranspose of this dataframe : \\n\",dataframe2.T)\n",
        "\n",
        "#Methods in DataFrames\n",
        "\n",
        "# Using head() - prints the first 5 rows\n",
        "print(\"\\n\\nFirst 5 rows of this dataframe : \\n\",dataframe2.head())\n",
        "# Specifying this parameter\n",
        "print(\"\\n\\nFirst 2 rows of this dataframe : \\n\",dataframe2.head(2))\n",
        "\n",
        "# Using tail() - prints the last 5 rows\n",
        "print(\"\\n\\nLast 5 rows of this dataframe : \\n\",dataframe2.tail())\n",
        "# Specifying this parameter\n",
        "print(\"\\n\\nLast 2 rows of this dataframe : \\n\",dataframe2.tail(2))\n"
      ],
      "metadata": {
        "colab": {
          "base_uri": "https://localhost:8080/"
        },
        "id": "rbIUJNEuLQ4T",
        "outputId": "53e98e58-d5e3-416b-c9cd-9401854fe045"
      },
      "execution_count": null,
      "outputs": [
        {
          "output_type": "stream",
          "name": "stdout",
          "text": [
            "          Student           Subject  Marks\n",
            "Index1        Raj            Python     72\n",
            "Index2   Abhishek          Sanskrit     88\n",
            "Index3  Debashish        JavaScript      2\n",
            "Index4     Sanket              Java     33\n",
            "Index5     Kalash           Biology     99\n",
            "Index6      Jacob           Sorcery     44\n",
            "Index7       King  Hotel management     56\n",
            "Index8       Jack     casino player     78\n",
            "\n",
            "\n",
            "Datatypes in this dataframe\n",
            " Student    object\n",
            "Subject    object\n",
            "Marks       int64\n",
            "dtype: object\n",
            "\n",
            "\n",
            "Dimensions in this dataframe :  2\n",
            "\n",
            "\n",
            "Shape of this dataframe :  (8, 3)\n",
            "\n",
            "\n",
            "Indexes in this dataframe :  Index(['Index1', 'Index2', 'Index3', 'Index4', 'Index5', 'Index6', 'Index7',\n",
            "       'Index8'],\n",
            "      dtype='object')\n",
            "\n",
            "\n",
            "Size of this dataframe :  24\n",
            "\n",
            "\n",
            "Transpose of this dataframe : \n",
            "          Index1    Index2      Index3  Index4   Index5   Index6  \\\n",
            "Student     Raj  Abhishek   Debashish  Sanket   Kalash    Jacob   \n",
            "Subject  Python  Sanskrit  JavaScript    Java  Biology  Sorcery   \n",
            "Marks        72        88           2      33       99       44   \n",
            "\n",
            "                   Index7         Index8  \n",
            "Student              King           Jack  \n",
            "Subject  Hotel management  casino player  \n",
            "Marks                  56             78  \n",
            "\n",
            "\n",
            "First 5 rows of this dataframe : \n",
            "           Student     Subject  Marks\n",
            "Index1        Raj      Python     72\n",
            "Index2   Abhishek    Sanskrit     88\n",
            "Index3  Debashish  JavaScript      2\n",
            "Index4     Sanket        Java     33\n",
            "Index5     Kalash     Biology     99\n",
            "\n",
            "\n",
            "First 2 rows of this dataframe : \n",
            "          Student   Subject  Marks\n",
            "Index1       Raj    Python     72\n",
            "Index2  Abhishek  Sanskrit     88\n",
            "\n",
            "\n",
            "Last 5 rows of this dataframe : \n",
            "        Student           Subject  Marks\n",
            "Index4  Sanket              Java     33\n",
            "Index5  Kalash           Biology     99\n",
            "Index6   Jacob           Sorcery     44\n",
            "Index7    King  Hotel management     56\n",
            "Index8    Jack     casino player     78\n",
            "\n",
            "\n",
            "Last 2 rows of this dataframe : \n",
            "        Student           Subject  Marks\n",
            "Index7    King  Hotel management     56\n",
            "Index8    Jack     casino player     78\n"
          ]
        }
      ]
    },
    {
      "cell_type": "code",
      "source": [
        "import pandas as pd\n",
        "\n",
        "data1 = {\n",
        "    'Student' : ['Raj', 'Abhishek', 'Debashish', 'Sanket'],\n",
        "    'Subject' : ['Python', 'Sanskrit', 'JavaScript', 'Java'],\n",
        "    'Marks' : [72,88,2,33]\n",
        "}\n",
        "\n",
        "data2 ={\n",
        "    'Name' : ['Kalash','Jacob','King','Jack'],\n",
        "    'Fields' : ['Biology','Sorcery','Hotel management','casino player'],\n",
        "    'Ranks' : [99,44,56,78]\n",
        "}\n",
        "\n",
        "dataframe1 = pd.DataFrame(data1)\n",
        "dataframe2 = pd.DataFrame(data2)\n",
        "\n",
        "print(dataframe1)\n",
        "print(\"\\n\\n\", dataframe2)\n",
        "# We make use of the join() method to join 2 different dataframes with each other.\n",
        "print(\"\\n\\nAfter joining:\\n\",dataframe1.join(dataframe2))\n",
        "\n",
        "\n",
        "resultant = pd.concat([dataframe1,dataframe2])\n",
        "print(\"\\n\\nAfter Concat:\\n\",resultant)"
      ],
      "metadata": {
        "colab": {
          "base_uri": "https://localhost:8080/"
        },
        "id": "4sUXe0j9p8mA",
        "outputId": "da6da242-10b4-4271-d18c-3d2f8586f89c"
      },
      "execution_count": null,
      "outputs": [
        {
          "output_type": "stream",
          "name": "stdout",
          "text": [
            "     Student     Subject  Marks\n",
            "0        Raj      Python     72\n",
            "1   Abhishek    Sanskrit     88\n",
            "2  Debashish  JavaScript      2\n",
            "3     Sanket        Java     33\n",
            "\n",
            "\n",
            "      Name            Fields  Ranks\n",
            "0  Kalash           Biology     99\n",
            "1   Jacob           Sorcery     44\n",
            "2    King  Hotel management     56\n",
            "3    Jack     casino player     78\n",
            "\n",
            "\n",
            "After joining:\n",
            "      Student     Subject  Marks    Name            Fields  Ranks\n",
            "0        Raj      Python     72  Kalash           Biology     99\n",
            "1   Abhishek    Sanskrit     88   Jacob           Sorcery     44\n",
            "2  Debashish  JavaScript      2    King  Hotel management     56\n",
            "3     Sanket        Java     33    Jack     casino player     78\n",
            "\n",
            "\n",
            "After Concat:\n",
            "      Student     Subject  Marks    Name            Fields  Ranks\n",
            "0        Raj      Python   72.0     NaN               NaN    NaN\n",
            "1   Abhishek    Sanskrit   88.0     NaN               NaN    NaN\n",
            "2  Debashish  JavaScript    2.0     NaN               NaN    NaN\n",
            "3     Sanket        Java   33.0     NaN               NaN    NaN\n",
            "0        NaN         NaN    NaN  Kalash           Biology   99.0\n",
            "1        NaN         NaN    NaN   Jacob           Sorcery   44.0\n",
            "2        NaN         NaN    NaN    King  Hotel management   56.0\n",
            "3        NaN         NaN    NaN    Jack     casino player   78.0\n"
          ]
        }
      ]
    },
    {
      "cell_type": "markdown",
      "source": [
        "## Pandas Series"
      ],
      "metadata": {
        "id": "3Ymb0taQJq_g"
      }
    },
    {
      "cell_type": "code",
      "source": [
        "# Pandas Series --> is a kind of one dimensional array which stores the data in a comlumn like structure with indexes.\n",
        "# We make use of Series() method to create pandas series\n",
        "#Parameters / Arguments of the series() method\n",
        "\n",
        "\n",
        "#data\n",
        "#index\n",
        "#column\n",
        "#copy\n",
        "#index_col"
      ],
      "metadata": {
        "id": "tVVvCfukJtLT"
      },
      "execution_count": null,
      "outputs": []
    },
    {
      "cell_type": "code",
      "source": [
        "import pandas as pd\n",
        "\n",
        "# Declaring the series\n",
        "\n",
        "data = [10,20,30,40,50]\n",
        "\n",
        "#Creating a Pandas Series\n",
        "series = pd.Series(data)\n",
        "\n",
        "print(series)\n",
        "\n",
        "#Accessing elements from the series\n",
        "print(\"\\n\",series[3])\n",
        "\n",
        "series1 = pd.Series(data , index = [\"Index1\" , \"Index2\" , \"Index3\" , \"Index4\" , \"Index5\"])\n",
        "print(\"\\n\\n\",series1)\n",
        "\n",
        "#Accessing elements through custom indexes\n",
        "print(\"\\n\",series1[\"Index3\"])\n"
      ],
      "metadata": {
        "colab": {
          "base_uri": "https://localhost:8080/"
        },
        "id": "lObLrPOJKW-O",
        "outputId": "482e71ba-6387-440d-90b5-da35887532e0"
      },
      "execution_count": null,
      "outputs": [
        {
          "output_type": "stream",
          "name": "stdout",
          "text": [
            "0    10\n",
            "1    20\n",
            "2    30\n",
            "3    40\n",
            "4    50\n",
            "dtype: int64\n",
            "\n",
            " 40\n",
            "\n",
            "\n",
            " Index1    10\n",
            "Index2    20\n",
            "Index3    30\n",
            "Index4    40\n",
            "Index5    50\n",
            "dtype: int64\n",
            "\n",
            " 30\n"
          ]
        }
      ]
    },
    {
      "cell_type": "markdown",
      "source": [
        "## Pandas attributes and methods"
      ],
      "metadata": {
        "id": "62KyVcZgM8f8"
      }
    },
    {
      "cell_type": "code",
      "source": [
        "# 👉 Attributes = Give you information about your data (no parentheses () required).\n",
        "# 👉 Methods = Perform an action or operation on your data (need parentheses ()).\n",
        "\n",
        "# 🔹 Attributes\n",
        "# \t•\tdtype → Returns data type of values.\n",
        "# \t•\tndim → Number of dimensions (Series=1, DataFrame=2).\n",
        "# \t•\tsize → Total number of elements.\n",
        "# \t•\tshape → Tuple of (rows, columns).\n",
        "# \t•\tindex → Row labels/index.\n",
        "# \t•\thasnans → Checks if any NaN (missing) values exist.\n",
        "\n",
        "# 🔹 Methods\n",
        "# \t•\thead() → Shows first 5 rows (or given n).\n",
        "# \t•\ttail() → Shows last 5 rows (or given n).\n",
        "# \t•\tinfo() → Displays dataset summary (index, columns, dtypes, nulls, memory)."
      ],
      "metadata": {
        "id": "Dnccl0NMNApC"
      },
      "execution_count": null,
      "outputs": []
    },
    {
      "cell_type": "code",
      "source": [
        "import pandas as pd\n",
        "\n",
        "data1 = [10,20,30,40,50,60,\"hello\",\"hi\",None]\n",
        "\n",
        "series1 = pd.Series(data1)\n",
        "print(series1)\n",
        "\n",
        "# Using dtype attribute\n",
        "print(\"\\n\\nDatatype of this Series:\",series1.dtype)\n",
        "\n",
        "# Using ndim attribute\n",
        "print(\"\\n\\nDimensions of this Series:\",series1.ndim)\n",
        "\n",
        "# Using size attribute\n",
        "print(\"\\n\\nSize of this Series:\",series1.size)\n",
        "\n",
        "# Using size attribute\n",
        "print(\"\\n\\nSize of this Series:\",series1.size)\n",
        "\n",
        "# Using hasnans attribute\n",
        "print(\"\\n\\nSeries has None value ? :\",series1.hasnans)\n",
        "\n",
        "# Using index attribute\n",
        "print(\"\\n\\nIndex of series\",series1.index)\n",
        "\n",
        "\n",
        "# Method in Pandas.Series\n",
        "\n",
        "# Using head() method\n",
        "print(\"\\n\\nFirst 5 rows of this series : \\n\",series1.head())\n",
        "print(\"\\n\\nFirst 2 rows of this series : \\n\",series1.head(2))\n",
        "\n",
        "# Using tail() method\n",
        "print(\"\\n\\nLast 5 rows of this series : \\n\",series1.tail())\n",
        "print(\"\\n\\nLast 3 rows of this series : \\n\",series1.tail(3))\n",
        "\n",
        "# Using info() method\n",
        "print(\"\\n\\n\",series1.info())"
      ],
      "metadata": {
        "colab": {
          "base_uri": "https://localhost:8080/"
        },
        "id": "OuzdnUNSNnwK",
        "outputId": "6d2a35cf-e2ae-4923-bb45-7f67e292373e"
      },
      "execution_count": null,
      "outputs": [
        {
          "output_type": "stream",
          "name": "stdout",
          "text": [
            "0       10\n",
            "1       20\n",
            "2       30\n",
            "3       40\n",
            "4       50\n",
            "5       60\n",
            "6    hello\n",
            "7       hi\n",
            "8     None\n",
            "dtype: object\n",
            "\n",
            "\n",
            "Datatype of this Series: object\n",
            "\n",
            "\n",
            "Dimensions of this Series: 1\n",
            "\n",
            "\n",
            "Size of this Series: 9\n",
            "\n",
            "\n",
            "Size of this Series: 9\n",
            "\n",
            "\n",
            "Series has None value ? : True\n",
            "\n",
            "\n",
            "Index of series RangeIndex(start=0, stop=9, step=1)\n",
            "\n",
            "\n",
            "First 5 rows of this series : \n",
            " 0    10\n",
            "1    20\n",
            "2    30\n",
            "3    40\n",
            "4    50\n",
            "dtype: object\n",
            "\n",
            "\n",
            "First 2 rows of this series : \n",
            " 0    10\n",
            "1    20\n",
            "dtype: object\n",
            "\n",
            "\n",
            "Last 5 rows of this series : \n",
            " 4       50\n",
            "5       60\n",
            "6    hello\n",
            "7       hi\n",
            "8     None\n",
            "dtype: object\n",
            "\n",
            "\n",
            "Last 3 rows of this series : \n",
            " 6    hello\n",
            "7       hi\n",
            "8     None\n",
            "dtype: object\n",
            "<class 'pandas.core.series.Series'>\n",
            "RangeIndex: 9 entries, 0 to 8\n",
            "Series name: None\n",
            "Non-Null Count  Dtype \n",
            "--------------  ----- \n",
            "8 non-null      object\n",
            "dtypes: object(1)\n",
            "memory usage: 204.0+ bytes\n",
            "\n",
            "\n",
            " None\n"
          ]
        }
      ]
    },
    {
      "cell_type": "markdown",
      "source": [
        "## Reading CSV Files"
      ],
      "metadata": {
        "id": "Pll_kmThRWhW"
      }
    },
    {
      "cell_type": "code",
      "source": [
        "# TO read CSV files in pandas , we use pd.read_csv() method\n",
        "from google.colab import files\n",
        "import pandas as pd\n",
        "\n",
        "uploaded = files.upload()\n",
        "\n",
        "csvdf = pd.read_csv('USERDETAILS.csv' , index_col=\"Name\")\n",
        "\n",
        "print(\"\\n\\nFirst n rows :\\n\" , df.head())"
      ],
      "metadata": {
        "colab": {
          "base_uri": "https://localhost:8080/",
          "height": 199
        },
        "id": "TfkH9fkRRYqh",
        "outputId": "673a7468-1695-45b1-99e2-0465de3f7d0e"
      },
      "execution_count": null,
      "outputs": [
        {
          "output_type": "display_data",
          "data": {
            "text/plain": [
              "<IPython.core.display.HTML object>"
            ],
            "text/html": [
              "\n",
              "     <input type=\"file\" id=\"files-4f38aed0-1746-4a03-b2b9-5dff9185bde7\" name=\"files[]\" multiple disabled\n",
              "        style=\"border:none\" />\n",
              "     <output id=\"result-4f38aed0-1746-4a03-b2b9-5dff9185bde7\">\n",
              "      Upload widget is only available when the cell has been executed in the\n",
              "      current browser session. Please rerun this cell to enable.\n",
              "      </output>\n",
              "      <script>// Copyright 2017 Google LLC\n",
              "//\n",
              "// Licensed under the Apache License, Version 2.0 (the \"License\");\n",
              "// you may not use this file except in compliance with the License.\n",
              "// You may obtain a copy of the License at\n",
              "//\n",
              "//      http://www.apache.org/licenses/LICENSE-2.0\n",
              "//\n",
              "// Unless required by applicable law or agreed to in writing, software\n",
              "// distributed under the License is distributed on an \"AS IS\" BASIS,\n",
              "// WITHOUT WARRANTIES OR CONDITIONS OF ANY KIND, either express or implied.\n",
              "// See the License for the specific language governing permissions and\n",
              "// limitations under the License.\n",
              "\n",
              "/**\n",
              " * @fileoverview Helpers for google.colab Python module.\n",
              " */\n",
              "(function(scope) {\n",
              "function span(text, styleAttributes = {}) {\n",
              "  const element = document.createElement('span');\n",
              "  element.textContent = text;\n",
              "  for (const key of Object.keys(styleAttributes)) {\n",
              "    element.style[key] = styleAttributes[key];\n",
              "  }\n",
              "  return element;\n",
              "}\n",
              "\n",
              "// Max number of bytes which will be uploaded at a time.\n",
              "const MAX_PAYLOAD_SIZE = 100 * 1024;\n",
              "\n",
              "function _uploadFiles(inputId, outputId) {\n",
              "  const steps = uploadFilesStep(inputId, outputId);\n",
              "  const outputElement = document.getElementById(outputId);\n",
              "  // Cache steps on the outputElement to make it available for the next call\n",
              "  // to uploadFilesContinue from Python.\n",
              "  outputElement.steps = steps;\n",
              "\n",
              "  return _uploadFilesContinue(outputId);\n",
              "}\n",
              "\n",
              "// This is roughly an async generator (not supported in the browser yet),\n",
              "// where there are multiple asynchronous steps and the Python side is going\n",
              "// to poll for completion of each step.\n",
              "// This uses a Promise to block the python side on completion of each step,\n",
              "// then passes the result of the previous step as the input to the next step.\n",
              "function _uploadFilesContinue(outputId) {\n",
              "  const outputElement = document.getElementById(outputId);\n",
              "  const steps = outputElement.steps;\n",
              "\n",
              "  const next = steps.next(outputElement.lastPromiseValue);\n",
              "  return Promise.resolve(next.value.promise).then((value) => {\n",
              "    // Cache the last promise value to make it available to the next\n",
              "    // step of the generator.\n",
              "    outputElement.lastPromiseValue = value;\n",
              "    return next.value.response;\n",
              "  });\n",
              "}\n",
              "\n",
              "/**\n",
              " * Generator function which is called between each async step of the upload\n",
              " * process.\n",
              " * @param {string} inputId Element ID of the input file picker element.\n",
              " * @param {string} outputId Element ID of the output display.\n",
              " * @return {!Iterable<!Object>} Iterable of next steps.\n",
              " */\n",
              "function* uploadFilesStep(inputId, outputId) {\n",
              "  const inputElement = document.getElementById(inputId);\n",
              "  inputElement.disabled = false;\n",
              "\n",
              "  const outputElement = document.getElementById(outputId);\n",
              "  outputElement.innerHTML = '';\n",
              "\n",
              "  const pickedPromise = new Promise((resolve) => {\n",
              "    inputElement.addEventListener('change', (e) => {\n",
              "      resolve(e.target.files);\n",
              "    });\n",
              "  });\n",
              "\n",
              "  const cancel = document.createElement('button');\n",
              "  inputElement.parentElement.appendChild(cancel);\n",
              "  cancel.textContent = 'Cancel upload';\n",
              "  const cancelPromise = new Promise((resolve) => {\n",
              "    cancel.onclick = () => {\n",
              "      resolve(null);\n",
              "    };\n",
              "  });\n",
              "\n",
              "  // Wait for the user to pick the files.\n",
              "  const files = yield {\n",
              "    promise: Promise.race([pickedPromise, cancelPromise]),\n",
              "    response: {\n",
              "      action: 'starting',\n",
              "    }\n",
              "  };\n",
              "\n",
              "  cancel.remove();\n",
              "\n",
              "  // Disable the input element since further picks are not allowed.\n",
              "  inputElement.disabled = true;\n",
              "\n",
              "  if (!files) {\n",
              "    return {\n",
              "      response: {\n",
              "        action: 'complete',\n",
              "      }\n",
              "    };\n",
              "  }\n",
              "\n",
              "  for (const file of files) {\n",
              "    const li = document.createElement('li');\n",
              "    li.append(span(file.name, {fontWeight: 'bold'}));\n",
              "    li.append(span(\n",
              "        `(${file.type || 'n/a'}) - ${file.size} bytes, ` +\n",
              "        `last modified: ${\n",
              "            file.lastModifiedDate ? file.lastModifiedDate.toLocaleDateString() :\n",
              "                                    'n/a'} - `));\n",
              "    const percent = span('0% done');\n",
              "    li.appendChild(percent);\n",
              "\n",
              "    outputElement.appendChild(li);\n",
              "\n",
              "    const fileDataPromise = new Promise((resolve) => {\n",
              "      const reader = new FileReader();\n",
              "      reader.onload = (e) => {\n",
              "        resolve(e.target.result);\n",
              "      };\n",
              "      reader.readAsArrayBuffer(file);\n",
              "    });\n",
              "    // Wait for the data to be ready.\n",
              "    let fileData = yield {\n",
              "      promise: fileDataPromise,\n",
              "      response: {\n",
              "        action: 'continue',\n",
              "      }\n",
              "    };\n",
              "\n",
              "    // Use a chunked sending to avoid message size limits. See b/62115660.\n",
              "    let position = 0;\n",
              "    do {\n",
              "      const length = Math.min(fileData.byteLength - position, MAX_PAYLOAD_SIZE);\n",
              "      const chunk = new Uint8Array(fileData, position, length);\n",
              "      position += length;\n",
              "\n",
              "      const base64 = btoa(String.fromCharCode.apply(null, chunk));\n",
              "      yield {\n",
              "        response: {\n",
              "          action: 'append',\n",
              "          file: file.name,\n",
              "          data: base64,\n",
              "        },\n",
              "      };\n",
              "\n",
              "      let percentDone = fileData.byteLength === 0 ?\n",
              "          100 :\n",
              "          Math.round((position / fileData.byteLength) * 100);\n",
              "      percent.textContent = `${percentDone}% done`;\n",
              "\n",
              "    } while (position < fileData.byteLength);\n",
              "  }\n",
              "\n",
              "  // All done.\n",
              "  yield {\n",
              "    response: {\n",
              "      action: 'complete',\n",
              "    }\n",
              "  };\n",
              "}\n",
              "\n",
              "scope.google = scope.google || {};\n",
              "scope.google.colab = scope.google.colab || {};\n",
              "scope.google.colab._files = {\n",
              "  _uploadFiles,\n",
              "  _uploadFilesContinue,\n",
              "};\n",
              "})(self);\n",
              "</script> "
            ]
          },
          "metadata": {}
        },
        {
          "output_type": "stream",
          "name": "stdout",
          "text": [
            "Saving USERDETAILS.csv to USERDETAILS (2).csv\n",
            "\n",
            "\n",
            "First n rows :\n",
            "       Name  Age           City\n",
            "0    Alice   25       New York\n",
            "1      Bob   30  San Francisco\n",
            "2  Charlie   25    Los Angeles\n"
          ]
        }
      ]
    },
    {
      "cell_type": "markdown",
      "source": [
        "## Reading an Excel File"
      ],
      "metadata": {
        "id": "i_G9n-7tUpXZ"
      }
    },
    {
      "cell_type": "code",
      "source": [
        "# To read an excel file, we make use of the pd.read_excel() method\n",
        "from google.colab import files\n",
        "import pandas as pd\n",
        "\n",
        "uploaded = files.upload()\n",
        "\n",
        "df1 = pd.read_excel(\"readingexcelfile.xlsx\")\n",
        "print(\"\\n\\nFirst 5 rows\\n\",df1.head())\n",
        "print(\"\\n\\nLast 2 rows\\n\",df1.tail(2))"
      ],
      "metadata": {
        "colab": {
          "base_uri": "https://localhost:8080/",
          "height": 342
        },
        "id": "BMDwMZ4eUrWE",
        "outputId": "b553961d-576e-4052-9309-15c97422b51d"
      },
      "execution_count": null,
      "outputs": [
        {
          "output_type": "display_data",
          "data": {
            "text/plain": [
              "<IPython.core.display.HTML object>"
            ],
            "text/html": [
              "\n",
              "     <input type=\"file\" id=\"files-f0f176a3-e639-47cc-997c-96fd910ec6a0\" name=\"files[]\" multiple disabled\n",
              "        style=\"border:none\" />\n",
              "     <output id=\"result-f0f176a3-e639-47cc-997c-96fd910ec6a0\">\n",
              "      Upload widget is only available when the cell has been executed in the\n",
              "      current browser session. Please rerun this cell to enable.\n",
              "      </output>\n",
              "      <script>// Copyright 2017 Google LLC\n",
              "//\n",
              "// Licensed under the Apache License, Version 2.0 (the \"License\");\n",
              "// you may not use this file except in compliance with the License.\n",
              "// You may obtain a copy of the License at\n",
              "//\n",
              "//      http://www.apache.org/licenses/LICENSE-2.0\n",
              "//\n",
              "// Unless required by applicable law or agreed to in writing, software\n",
              "// distributed under the License is distributed on an \"AS IS\" BASIS,\n",
              "// WITHOUT WARRANTIES OR CONDITIONS OF ANY KIND, either express or implied.\n",
              "// See the License for the specific language governing permissions and\n",
              "// limitations under the License.\n",
              "\n",
              "/**\n",
              " * @fileoverview Helpers for google.colab Python module.\n",
              " */\n",
              "(function(scope) {\n",
              "function span(text, styleAttributes = {}) {\n",
              "  const element = document.createElement('span');\n",
              "  element.textContent = text;\n",
              "  for (const key of Object.keys(styleAttributes)) {\n",
              "    element.style[key] = styleAttributes[key];\n",
              "  }\n",
              "  return element;\n",
              "}\n",
              "\n",
              "// Max number of bytes which will be uploaded at a time.\n",
              "const MAX_PAYLOAD_SIZE = 100 * 1024;\n",
              "\n",
              "function _uploadFiles(inputId, outputId) {\n",
              "  const steps = uploadFilesStep(inputId, outputId);\n",
              "  const outputElement = document.getElementById(outputId);\n",
              "  // Cache steps on the outputElement to make it available for the next call\n",
              "  // to uploadFilesContinue from Python.\n",
              "  outputElement.steps = steps;\n",
              "\n",
              "  return _uploadFilesContinue(outputId);\n",
              "}\n",
              "\n",
              "// This is roughly an async generator (not supported in the browser yet),\n",
              "// where there are multiple asynchronous steps and the Python side is going\n",
              "// to poll for completion of each step.\n",
              "// This uses a Promise to block the python side on completion of each step,\n",
              "// then passes the result of the previous step as the input to the next step.\n",
              "function _uploadFilesContinue(outputId) {\n",
              "  const outputElement = document.getElementById(outputId);\n",
              "  const steps = outputElement.steps;\n",
              "\n",
              "  const next = steps.next(outputElement.lastPromiseValue);\n",
              "  return Promise.resolve(next.value.promise).then((value) => {\n",
              "    // Cache the last promise value to make it available to the next\n",
              "    // step of the generator.\n",
              "    outputElement.lastPromiseValue = value;\n",
              "    return next.value.response;\n",
              "  });\n",
              "}\n",
              "\n",
              "/**\n",
              " * Generator function which is called between each async step of the upload\n",
              " * process.\n",
              " * @param {string} inputId Element ID of the input file picker element.\n",
              " * @param {string} outputId Element ID of the output display.\n",
              " * @return {!Iterable<!Object>} Iterable of next steps.\n",
              " */\n",
              "function* uploadFilesStep(inputId, outputId) {\n",
              "  const inputElement = document.getElementById(inputId);\n",
              "  inputElement.disabled = false;\n",
              "\n",
              "  const outputElement = document.getElementById(outputId);\n",
              "  outputElement.innerHTML = '';\n",
              "\n",
              "  const pickedPromise = new Promise((resolve) => {\n",
              "    inputElement.addEventListener('change', (e) => {\n",
              "      resolve(e.target.files);\n",
              "    });\n",
              "  });\n",
              "\n",
              "  const cancel = document.createElement('button');\n",
              "  inputElement.parentElement.appendChild(cancel);\n",
              "  cancel.textContent = 'Cancel upload';\n",
              "  const cancelPromise = new Promise((resolve) => {\n",
              "    cancel.onclick = () => {\n",
              "      resolve(null);\n",
              "    };\n",
              "  });\n",
              "\n",
              "  // Wait for the user to pick the files.\n",
              "  const files = yield {\n",
              "    promise: Promise.race([pickedPromise, cancelPromise]),\n",
              "    response: {\n",
              "      action: 'starting',\n",
              "    }\n",
              "  };\n",
              "\n",
              "  cancel.remove();\n",
              "\n",
              "  // Disable the input element since further picks are not allowed.\n",
              "  inputElement.disabled = true;\n",
              "\n",
              "  if (!files) {\n",
              "    return {\n",
              "      response: {\n",
              "        action: 'complete',\n",
              "      }\n",
              "    };\n",
              "  }\n",
              "\n",
              "  for (const file of files) {\n",
              "    const li = document.createElement('li');\n",
              "    li.append(span(file.name, {fontWeight: 'bold'}));\n",
              "    li.append(span(\n",
              "        `(${file.type || 'n/a'}) - ${file.size} bytes, ` +\n",
              "        `last modified: ${\n",
              "            file.lastModifiedDate ? file.lastModifiedDate.toLocaleDateString() :\n",
              "                                    'n/a'} - `));\n",
              "    const percent = span('0% done');\n",
              "    li.appendChild(percent);\n",
              "\n",
              "    outputElement.appendChild(li);\n",
              "\n",
              "    const fileDataPromise = new Promise((resolve) => {\n",
              "      const reader = new FileReader();\n",
              "      reader.onload = (e) => {\n",
              "        resolve(e.target.result);\n",
              "      };\n",
              "      reader.readAsArrayBuffer(file);\n",
              "    });\n",
              "    // Wait for the data to be ready.\n",
              "    let fileData = yield {\n",
              "      promise: fileDataPromise,\n",
              "      response: {\n",
              "        action: 'continue',\n",
              "      }\n",
              "    };\n",
              "\n",
              "    // Use a chunked sending to avoid message size limits. See b/62115660.\n",
              "    let position = 0;\n",
              "    do {\n",
              "      const length = Math.min(fileData.byteLength - position, MAX_PAYLOAD_SIZE);\n",
              "      const chunk = new Uint8Array(fileData, position, length);\n",
              "      position += length;\n",
              "\n",
              "      const base64 = btoa(String.fromCharCode.apply(null, chunk));\n",
              "      yield {\n",
              "        response: {\n",
              "          action: 'append',\n",
              "          file: file.name,\n",
              "          data: base64,\n",
              "        },\n",
              "      };\n",
              "\n",
              "      let percentDone = fileData.byteLength === 0 ?\n",
              "          100 :\n",
              "          Math.round((position / fileData.byteLength) * 100);\n",
              "      percent.textContent = `${percentDone}% done`;\n",
              "\n",
              "    } while (position < fileData.byteLength);\n",
              "  }\n",
              "\n",
              "  // All done.\n",
              "  yield {\n",
              "    response: {\n",
              "      action: 'complete',\n",
              "    }\n",
              "  };\n",
              "}\n",
              "\n",
              "scope.google = scope.google || {};\n",
              "scope.google.colab = scope.google.colab || {};\n",
              "scope.google.colab._files = {\n",
              "  _uploadFiles,\n",
              "  _uploadFilesContinue,\n",
              "};\n",
              "})(self);\n",
              "</script> "
            ]
          },
          "metadata": {}
        },
        {
          "output_type": "stream",
          "name": "stdout",
          "text": [
            "Saving readingexcelfile.xlsx to readingexcelfile.xlsx\n",
            "\n",
            "\n",
            "First 5 rows\n",
            "       Name  Age           City\n",
            "0    Alice   25          India\n",
            "1      Bob   30        Denmark\n",
            "2  Charlie   35         Boston\n",
            "3    David   40  San Francisco\n",
            "4      Eve   45      Dhinchakk\n",
            "\n",
            "\n",
            "Last 2 rows\n",
            "     Name  Age           City\n",
            "3  David   40  San Francisco\n",
            "4    Eve   45      Dhinchakk\n"
          ]
        }
      ]
    },
    {
      "cell_type": "markdown",
      "source": [
        "## Column Selection in pandas\n"
      ],
      "metadata": {
        "id": "ue_P93VTVuF3"
      }
    },
    {
      "cell_type": "code",
      "source": [
        "# Fetching columns through labels(column_names)\n",
        "res = csvdf['Age']\n",
        "print(res)\n",
        "\n",
        "# Fetching multiple columns :\n",
        "resmultiple = csvdf[['Age','City']]\n",
        "print(\"\\n\\n\",resmultiple)\n",
        "\n",
        "# Fetching rows through customised indexes in loc\n",
        "resloc = csvdf.loc[\"Charlie\"]\n",
        "print(\"\\n\\n\", resloc)\n",
        "\n",
        "# Fetching rows through iloc()\n",
        "\n",
        "resiloc = csvdf.iloc[2]\n",
        "print(resiloc)"
      ],
      "metadata": {
        "colab": {
          "base_uri": "https://localhost:8080/"
        },
        "id": "dsOl6l7MV0m7",
        "outputId": "3b392bbe-4177-470d-9fd0-7684e2a9248d"
      },
      "execution_count": null,
      "outputs": [
        {
          "output_type": "stream",
          "name": "stdout",
          "text": [
            "Name\n",
            "Alice      25\n",
            "Bob        30\n",
            "Charlie    25\n",
            "Name: Age, dtype: int64\n",
            "\n",
            "\n",
            "          Age           City\n",
            "Name                       \n",
            "Alice     25       New York\n",
            "Bob       30  San Francisco\n",
            "Charlie   25    Los Angeles\n",
            "\n",
            "\n",
            " Age              25\n",
            "City    Los Angeles\n",
            "Name: Charlie, dtype: object\n",
            "Age              25\n",
            "City    Los Angeles\n",
            "Name: Charlie, dtype: object\n"
          ]
        }
      ]
    }
  ]
}