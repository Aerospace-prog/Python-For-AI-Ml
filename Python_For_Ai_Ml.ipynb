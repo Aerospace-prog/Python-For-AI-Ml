{
  "nbformat": 4,
  "nbformat_minor": 0,
  "metadata": {
    "colab": {
      "provenance": [],
      "authorship_tag": "ABX9TyM9gFIEJnOnbgsT+OYH3PWd",
      "include_colab_link": true
    },
    "kernelspec": {
      "name": "python3",
      "display_name": "Python 3"
    },
    "language_info": {
      "name": "python"
    }
  },
  "cells": [
    {
      "cell_type": "markdown",
      "metadata": {
        "id": "view-in-github",
        "colab_type": "text"
      },
      "source": [
        "<a href=\"https://colab.research.google.com/github/Aerospace-prog/Python-For-AI-Ml/blob/main/Python_For_Ai_Ml.ipynb\" target=\"_parent\"><img src=\"https://colab.research.google.com/assets/colab-badge.svg\" alt=\"Open In Colab\"/></a>"
      ]
    },
    {
      "cell_type": "markdown",
      "source": [
        "# **Strings**"
      ],
      "metadata": {
        "id": "QIL-zArJAeci"
      }
    },
    {
      "cell_type": "markdown",
      "metadata": {
        "id": "cd3a9b60"
      },
      "source": [
        "There are three primary ways to declare strings in Python:\n",
        "\n",
        "1.  **Single Quotes (`'`)**: Useful for simple, single-line strings.\n",
        "2.  **Double Quotes (`\"`)**: Also used for simple, single-line strings. Often preferred when the string contains single quotes.\n",
        "3.  **Triple Quotes (`\"\"\"` or `'''`)**: Used for multi-line strings, which can span across multiple lines in your code. These are also commonly used for docstrings."
      ]
    },
    {
      "cell_type": "code",
      "execution_count": null,
      "metadata": {
        "colab": {
          "base_uri": "https://localhost:8080/"
        },
        "id": "TkCBfbBkAU3v",
        "outputId": "96cb09e4-901d-4f54-9e34-9f3c97f8afe9"
      },
      "outputs": [
        {
          "output_type": "stream",
          "name": "stdout",
          "text": [
            "5\n"
          ]
        }
      ],
      "source": [
        "# Kinds of string declarations\n",
        "\n",
        "str1 = 'hello'\n",
        "str2 = \"hello\"\n",
        "str3 = \"\"\"hello\n",
        "          kaise ho aap\n",
        "        \"\"\"\n",
        "\n",
        " # Note : Strings are immutable in nature\n",
        "\n",
        "\n",
        "print(len(str2)) # ==> 5\n",
        "\n"
      ]
    },
    {
      "cell_type": "markdown",
      "source": [
        "**Indexing in strings**"
      ],
      "metadata": {
        "id": "c8_EhSQyC6qT"
      }
    },
    {
      "cell_type": "markdown",
      "metadata": {
        "id": "0c945325"
      },
      "source": [
        "Indexing in strings allows you to access individual characters within a string using their position (index).\n",
        "\n",
        "*   **Positive Indexing**: Starts from 0 for the first character and increases by 1 for each subsequent character.\n",
        "*   **Negative Indexing**: Starts from -1 for the last character and decreases by 1 for each preceding character.\n",
        "\n",
        "You can access a character using square brackets `[]` with the index inside."
      ]
    },
    {
      "cell_type": "code",
      "source": [
        "# Let's assume we have a string for demonstration\n",
        "str2 = \"HelloWorld\"\n",
        "\n",
        "# str2[0:4] → Extracts characters from index 0 to 3 (end index 4 is excluded).\n",
        "# This means it will take the substring \"Hell\".\n",
        "print(str2[0:4])   # Output: Hell\n",
        "\n",
        "# str2[:] → Returns the entire string because no start or end index is given.\n",
        "# This is the same as making a copy of the string.\n",
        "print(str2[:])     # Output: HelloWorld\n",
        "\n",
        "# str2[:4] → Omits the start index (defaults to 0) and goes till index 3.\n",
        "# Equivalent to str2[0:4].\n",
        "print(str2[:4])    # Output: Hell\n",
        "\n",
        "# str2[0:] → Omits the end index (defaults to the end of the string).\n",
        "# Extracts from index 0 to the end.\n",
        "print(str2[0:])    # Output: HelloWorld"
      ],
      "metadata": {
        "colab": {
          "base_uri": "https://localhost:8080/"
        },
        "id": "srvnjYBUC_Qr",
        "outputId": "2bd46695-db58-4076-894a-971ae05c2556"
      },
      "execution_count": null,
      "outputs": [
        {
          "output_type": "stream",
          "name": "stdout",
          "text": [
            "Hell\n",
            "HelloWorld\n",
            "Hell\n",
            "HelloWorld\n"
          ]
        }
      ]
    },
    {
      "cell_type": "markdown",
      "source": [
        "**Slicing with 3 parameters - [startindex : endindex : step]**"
      ],
      "metadata": {
        "id": "O0EJ-4iHEa8y"
      }
    },
    {
      "cell_type": "code",
      "source": [
        "numStr = \"0123456789\"\n",
        "\n",
        "# Start at index 2 and take every 2nd character → indices 2,4,6,8\n",
        "print(numStr[2::2])   # Output: 2468\n",
        "\n",
        "# Start at index 1 and take every 2nd character → indices 1,3,5,7,9\n",
        "print(numStr[1::2])   # Output: 13579\n",
        "\n",
        "characterAtIndex1 = numStr[1]\n",
        "print(characterAtIndex1)\n",
        "\n",
        "#Type Checking for string\n",
        "print(type(characterAtIndex1))\n",
        "\n",
        "\n",
        "\n",
        "exampleString = \"Aerospace\"\n",
        "\n",
        "# Negative slicing counts from the end:\n",
        "# Index positions:  A   e   r   o   s   p   a   c   e\n",
        "# Positive index:   0   1   2   3   4   5   6   7   8\n",
        "# Negative index:  -9  -8  -7  -6  -5  -4  -3  -2  -1\n",
        "\n",
        "# exampleString[-6:-1] → take characters from -6 (index of 'o') up to -1 (excluded, index of 'e')\n",
        "print(exampleString[-6:-1])   # Output: ospac"
      ],
      "metadata": {
        "colab": {
          "base_uri": "https://localhost:8080/"
        },
        "id": "wHNUuzF1Enco",
        "outputId": "5a76c81d-b242-4c9a-cd66-a3bd8b1f4610"
      },
      "execution_count": null,
      "outputs": [
        {
          "output_type": "stream",
          "name": "stdout",
          "text": [
            "2468\n",
            "13579\n",
            "1\n",
            "<class 'str'>\n",
            "ospac\n"
          ]
        }
      ]
    },
    {
      "cell_type": "markdown",
      "source": [
        "**String Functions**"
      ],
      "metadata": {
        "id": "m26efZdOHZRF"
      }
    },
    {
      "cell_type": "code",
      "source": [
        "randomStr = \"polarisSchoolofTech\"\n",
        "\n",
        "# Get the total number of characters in the string\n",
        "print(len(randomStr))   # Output: 18\n",
        "\n",
        "# Capitalize the first character, rest in lowercase\n",
        "print(randomStr.capitalize())   # Output: Polarisschooloftech\n",
        "\n",
        "# Convert entire string to uppercase\n",
        "print(randomStr.upper())   # Output: POLARISSCHOOLOFTECH\n",
        "\n",
        "# Convert entire string to lowercase\n",
        "print(randomStr.lower())   # Output: polarisschooloftech\n",
        "\n",
        "# Check if string starts with \"polaris\"\n",
        "print(randomStr.startswith(\"polaris\"))   # Output: True\n",
        "\n",
        "# Check if string ends with \"techonologia\"\n",
        "print(randomStr.endswith(\"techonologia\"))   # Output: False\n",
        "\n",
        "# Convert string into Title Case (first letter of each word capitalized)\n",
        "print(randomStr.title())   # Output: Polarisschooloftech\n",
        "\n",
        "# Make only the first 7 characters uppercase\n",
        "print(randomStr[:7].upper())   # Output: POLARIS\n",
        "\n",
        "# Find index of first occurrence of substring \"School\" (-1 if not found)\n",
        "print(randomStr.find(\"School\"))   # Output: 7\n",
        "\n",
        "# Replace \"SchoolofTech\" with \"SchoolOfHack\"\n",
        "print(randomStr.replace(\"SchoolofTech\", \"SchoolOfHack\"))   # Output: polarisSchoolOfHack\n",
        "\n",
        "# Count occurrences of 'o'\n",
        "print(randomStr.count(\"o\"))   # Output: 3\n",
        "\n",
        "\n",
        "# PROBLEM : 1 - FIND ALL WHITESPACES INDEX IN WHOLE STRING :)\n",
        "\n",
        "text = \"Python is a fun programming language\"\n",
        "\n",
        "# find first whitespace\n",
        "pos = text.find(' ')\n",
        "\n",
        "while pos != -1:   # keep looping until no space is found\n",
        "    print(\"Whitespace found at index:\", pos)\n",
        "\n",
        "    # find next whitespace starting after current position\n",
        "    pos = text.find(' ', pos + 1)"
      ],
      "metadata": {
        "id": "C5On53QvHcZF",
        "colab": {
          "base_uri": "https://localhost:8080/"
        },
        "outputId": "2a1756c3-efa6-4731-eaae-6abd497d1472"
      },
      "execution_count": 31,
      "outputs": [
        {
          "output_type": "stream",
          "name": "stdout",
          "text": [
            "19\n",
            "Polarisschooloftech\n",
            "POLARISSCHOOLOFTECH\n",
            "polarisschooloftech\n",
            "True\n",
            "False\n",
            "Polarisschooloftech\n",
            "POLARIS\n",
            "7\n",
            "polarisSchoolOfHack\n",
            "4\n",
            "Whitespace found at index: 6\n",
            "Whitespace found at index: 9\n",
            "Whitespace found at index: 11\n",
            "Whitespace found at index: 15\n",
            "Whitespace found at index: 27\n"
          ]
        }
      ]
    }
  ]
}