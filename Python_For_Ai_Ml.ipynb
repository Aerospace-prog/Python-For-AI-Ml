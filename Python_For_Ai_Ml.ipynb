{
  "nbformat": 4,
  "nbformat_minor": 0,
  "metadata": {
    "colab": {
      "provenance": [],
      "authorship_tag": "ABX9TyPLWb4O2W6xQd1yyXmtJxmg",
      "include_colab_link": true
    },
    "kernelspec": {
      "name": "python3",
      "display_name": "Python 3"
    },
    "language_info": {
      "name": "python"
    }
  },
  "cells": [
    {
      "cell_type": "markdown",
      "metadata": {
        "id": "view-in-github",
        "colab_type": "text"
      },
      "source": [
        "<a href=\"https://colab.research.google.com/github/Aerospace-prog/Python-For-AI-Ml/blob/main/Python_For_Ai_Ml.ipynb\" target=\"_parent\"><img src=\"https://colab.research.google.com/assets/colab-badge.svg\" alt=\"Open In Colab\"/></a>"
      ]
    },
    {
      "cell_type": "markdown",
      "source": [
        "# **Strings**"
      ],
      "metadata": {
        "id": "QIL-zArJAeci"
      }
    },
    {
      "cell_type": "markdown",
      "metadata": {
        "id": "cd3a9b60"
      },
      "source": [
        "There are three primary ways to declare strings in Python:\n",
        "\n",
        "1.  **Single Quotes (`'`)**: Useful for simple, single-line strings.\n",
        "2.  **Double Quotes (`\"`)**: Also used for simple, single-line strings. Often preferred when the string contains single quotes.\n",
        "3.  **Triple Quotes (`\"\"\"` or `'''`)**: Used for multi-line strings, which can span across multiple lines in your code. These are also commonly used for docstrings."
      ]
    },
    {
      "cell_type": "code",
      "execution_count": null,
      "metadata": {
        "colab": {
          "base_uri": "https://localhost:8080/"
        },
        "id": "TkCBfbBkAU3v",
        "outputId": "96cb09e4-901d-4f54-9e34-9f3c97f8afe9"
      },
      "outputs": [
        {
          "output_type": "stream",
          "name": "stdout",
          "text": [
            "5\n"
          ]
        }
      ],
      "source": [
        "# Kinds of string declarations\n",
        "\n",
        "str1 = 'hello'\n",
        "str2 = \"hello\"\n",
        "str3 = \"\"\"hello\n",
        "          kaise ho aap\n",
        "        \"\"\"\n",
        "\n",
        " # Note : Strings are immutable in nature\n",
        "\n",
        "\n",
        "print(len(str2)) # ==> 5\n",
        "\n"
      ]
    },
    {
      "cell_type": "markdown",
      "source": [
        "**Indexing in strings**"
      ],
      "metadata": {
        "id": "c8_EhSQyC6qT"
      }
    },
    {
      "cell_type": "markdown",
      "metadata": {
        "id": "0c945325"
      },
      "source": [
        "Indexing in strings allows you to access individual characters within a string using their position (index).\n",
        "\n",
        "*   **Positive Indexing**: Starts from 0 for the first character and increases by 1 for each subsequent character.\n",
        "*   **Negative Indexing**: Starts from -1 for the last character and decreases by 1 for each preceding character.\n",
        "\n",
        "You can access a character using square brackets `[]` with the index inside."
      ]
    },
    {
      "cell_type": "code",
      "source": [
        "# Let's assume we have a string for demonstration\n",
        "str2 = \"HelloWorld\"\n",
        "\n",
        "# str2[0:4] → Extracts characters from index 0 to 3 (end index 4 is excluded).\n",
        "# This means it will take the substring \"Hell\".\n",
        "print(str2[0:4])   # Output: Hell\n",
        "\n",
        "# str2[:] → Returns the entire string because no start or end index is given.\n",
        "# This is the same as making a copy of the string.\n",
        "print(str2[:])     # Output: HelloWorld\n",
        "\n",
        "# str2[:4] → Omits the start index (defaults to 0) and goes till index 3.\n",
        "# Equivalent to str2[0:4].\n",
        "print(str2[:4])    # Output: Hell\n",
        "\n",
        "# str2[0:] → Omits the end index (defaults to the end of the string).\n",
        "# Extracts from index 0 to the end.\n",
        "print(str2[0:])    # Output: HelloWorld"
      ],
      "metadata": {
        "colab": {
          "base_uri": "https://localhost:8080/"
        },
        "id": "srvnjYBUC_Qr",
        "outputId": "2bd46695-db58-4076-894a-971ae05c2556"
      },
      "execution_count": null,
      "outputs": [
        {
          "output_type": "stream",
          "name": "stdout",
          "text": [
            "Hell\n",
            "HelloWorld\n",
            "Hell\n",
            "HelloWorld\n"
          ]
        }
      ]
    },
    {
      "cell_type": "markdown",
      "source": [
        "**Slicing with 3 parameters - [startindex : endindex : step]**"
      ],
      "metadata": {
        "id": "O0EJ-4iHEa8y"
      }
    },
    {
      "cell_type": "code",
      "source": [
        "numStr = \"0123456789\"\n",
        "\n",
        "# Start at index 2 and take every 2nd character → indices 2,4,6,8\n",
        "print(numStr[2::2])   # Output: 2468\n",
        "\n",
        "# Start at index 1 and take every 2nd character → indices 1,3,5,7,9\n",
        "print(numStr[1::2])   # Output: 13579\n",
        "\n",
        "characterAtIndex1 = numStr[1]\n",
        "print(characterAtIndex1)\n",
        "\n",
        "#Type Checking for string\n",
        "print(type(characterAtIndex1))\n",
        "\n",
        "\n",
        "\n",
        "exampleString = \"Aerospace\"\n",
        "\n",
        "# Negative slicing counts from the end:\n",
        "# Index positions:  A   e   r   o   s   p   a   c   e\n",
        "# Positive index:   0   1   2   3   4   5   6   7   8\n",
        "# Negative index:  -9  -8  -7  -6  -5  -4  -3  -2  -1\n",
        "\n",
        "# exampleString[-6:-1] → take characters from -6 (index of 'o') up to -1 (excluded, index of 'e')\n",
        "print(exampleString[-6:-1])   # Output: ospac"
      ],
      "metadata": {
        "colab": {
          "base_uri": "https://localhost:8080/"
        },
        "id": "wHNUuzF1Enco",
        "outputId": "5a76c81d-b242-4c9a-cd66-a3bd8b1f4610"
      },
      "execution_count": null,
      "outputs": [
        {
          "output_type": "stream",
          "name": "stdout",
          "text": [
            "2468\n",
            "13579\n",
            "1\n",
            "<class 'str'>\n",
            "ospac\n"
          ]
        }
      ]
    },
    {
      "cell_type": "markdown",
      "source": [
        "**String Functions**"
      ],
      "metadata": {
        "id": "m26efZdOHZRF"
      }
    },
    {
      "cell_type": "code",
      "source": [
        "randomStr = \"polarisSchoolofTech\"\n",
        "\n",
        "# Get the total number of characters in the string\n",
        "print(len(randomStr))   # Output: 18\n",
        "\n",
        "# Capitalize the first character, rest in lowercase\n",
        "print(randomStr.capitalize())   # Output: Polarisschooloftech\n",
        "\n",
        "# Convert entire string to uppercase\n",
        "print(randomStr.upper())   # Output: POLARISSCHOOLOFTECH\n",
        "\n",
        "# Convert entire string to lowercase\n",
        "print(randomStr.lower())   # Output: polarisschooloftech\n",
        "\n",
        "# Check if string starts with \"polaris\"\n",
        "print(randomStr.startswith(\"polaris\"))   # Output: True\n",
        "\n",
        "# Check if string ends with \"techonologia\"\n",
        "print(randomStr.endswith(\"techonologia\"))   # Output: False\n",
        "\n",
        "# Convert string into Title Case (first letter of each word capitalized)\n",
        "print(randomStr.title())   # Output: Polarisschooloftech\n",
        "\n",
        "# Make only the first 7 characters uppercase\n",
        "print(randomStr[:7].upper())   # Output: POLARIS\n",
        "\n",
        "# Find index of first occurrence of substring \"School\" (-1 if not found)\n",
        "print(randomStr.find(\"School\"))   # Output: 7\n",
        "\n",
        "# Replace \"SchoolofTech\" with \"SchoolOfHack\"\n",
        "print(randomStr.replace(\"SchoolofTech\", \"SchoolOfHack\"))   # Output: polarisSchoolOfHack\n",
        "\n",
        "# Count occurrences of 'o'\n",
        "print(randomStr.count(\"o\"))   # Output: 3\n",
        "\n",
        "\n",
        "# PROBLEM : 1 - FIND ALL WHITESPACES INDEX IN WHOLE STRING :)\n",
        "\n",
        "text = \"Python is a fun programming language\"\n",
        "\n",
        "# find first whitespace\n",
        "pos = text.find(' ')\n",
        "\n",
        "while pos != -1:   # keep looping until no space is found\n",
        "    print(\"Whitespace found at index:\", pos)\n",
        "\n",
        "    # find next whitespace starting after current position\n",
        "    pos = text.find(' ', pos + 1)"
      ],
      "metadata": {
        "id": "C5On53QvHcZF",
        "colab": {
          "base_uri": "https://localhost:8080/"
        },
        "outputId": "2a1756c3-efa6-4731-eaae-6abd497d1472"
      },
      "execution_count": null,
      "outputs": [
        {
          "output_type": "stream",
          "name": "stdout",
          "text": [
            "19\n",
            "Polarisschooloftech\n",
            "POLARISSCHOOLOFTECH\n",
            "polarisschooloftech\n",
            "True\n",
            "False\n",
            "Polarisschooloftech\n",
            "POLARIS\n",
            "7\n",
            "polarisSchoolOfHack\n",
            "4\n",
            "Whitespace found at index: 6\n",
            "Whitespace found at index: 9\n",
            "Whitespace found at index: 11\n",
            "Whitespace found at index: 15\n",
            "Whitespace found at index: 27\n"
          ]
        }
      ]
    },
    {
      "cell_type": "markdown",
      "source": [
        "# **Functions in python**"
      ],
      "metadata": {
        "id": "xfqLdbfOLm9X"
      }
    },
    {
      "cell_type": "markdown",
      "metadata": {
        "id": "c5415c13"
      },
      "source": [
        "Functions in Python are blocks of reusable code that perform a specific task. They help organize code, make it more readable, and reduce redundancy.\n",
        "\n",
        "**Key Concepts:**\n",
        "\n",
        "*   **Defining a Function:** Functions are defined using the `def` keyword, followed by the function name, parentheses `()`, and a colon `:`. The code block for the function is indented.\n",
        "*   **Function Name:** Should be descriptive and follow Python naming conventions (lowercase with underscores).\n",
        "*   **Parameters:** These are values passed into the function when it is called. They are specified within the parentheses in the function definition.\n",
        "*   **Arguments:** These are the actual values passed to the function when it is called.\n",
        "*   **Return Statement:** The `return` keyword is used to send a value back from the function to the part of the code that called it. If no `return` statement is used, the function returns `None` by default.\n",
        "*   **Calling a Function:** To execute the code within a function, you \"call\" it by using the function name followed by parentheses `()`, including any necessary arguments.\n",
        "\n",
        "**Benefits of using Functions:**\n",
        "\n",
        "*   **Reusability:** Write code once and use it multiple times.\n",
        "*   **Modularity:** Break down complex problems into smaller, manageable parts.\n",
        "*   **Readability:** Makes code easier to understand and maintain.\n",
        "*   **Abstraction:** Hide the complex details of a task behind a simple function call."
      ]
    },
    {
      "cell_type": "code",
      "source": [
        "num1 = int(input(\"Enter Number 1 \"))\n",
        "\n",
        "num2 = int(input(\"Enter Number 2 \"))\n",
        "\n",
        "sum  = num1 + num2\n",
        "\n",
        "print(f\"The sum of these numbers is : {sum}\")"
      ],
      "metadata": {
        "colab": {
          "base_uri": "https://localhost:8080/"
        },
        "id": "AntNc2OrLrKq",
        "outputId": "d187ccaf-cbfb-4ec3-823f-4167cb5543d7"
      },
      "execution_count": null,
      "outputs": [
        {
          "output_type": "stream",
          "name": "stdout",
          "text": [
            "Enter Number 1 12\n",
            "Enter Number 2 23\n",
            "The sum of these numbers is : 35\n"
          ]
        }
      ]
    },
    {
      "cell_type": "code",
      "source": [
        "def calulateNums() : #Function declaration\n",
        "  num1 = int(input(\"Enter Number 1 \"))\n",
        "  num2 = int(input(\"Enter Number 2 \"))\n",
        "  sum  = num1 + num2                              #Function definition\n",
        "  print(f\"The sum of these numbers is : {sum}\")\n",
        "\n",
        "\n",
        "calulateNums() #Function call"
      ],
      "metadata": {
        "colab": {
          "base_uri": "https://localhost:8080/"
        },
        "id": "KhmOwLI6MlNb",
        "outputId": "09359cfd-9517-4697-a1c7-91b003f4c4bf"
      },
      "execution_count": null,
      "outputs": [
        {
          "output_type": "stream",
          "name": "stdout",
          "text": [
            "Enter Number 1 12\n",
            "Enter Number 2 12\n",
            "The sum of these numbers is : 24\n",
            "Enter number to get cube1\n",
            "The cube of 1 is 1\n"
          ]
        }
      ]
    },
    {
      "cell_type": "code",
      "source": [
        "def cube() :\n",
        "  num1 = int(input(\"Enter number to get cube \"))\n",
        "  cube = num1 * num1 * num1\n",
        "  print(f\"The cube of {num1} is {cube}\")\n",
        "\n",
        "cube()"
      ],
      "metadata": {
        "colab": {
          "base_uri": "https://localhost:8080/"
        },
        "id": "ViCewnZ1NJgv",
        "outputId": "22a50edc-cb3e-4921-9866-7eece2bea049"
      },
      "execution_count": null,
      "outputs": [
        {
          "output_type": "stream",
          "name": "stdout",
          "text": [
            "Enter number to get cube 2\n",
            "The cube of 2 is 8\n"
          ]
        }
      ]
    },
    {
      "cell_type": "markdown",
      "source": [
        "**Function With Arguments**\n",
        "\n",
        "There are to types of functions in python = 1. Built in. 2. User defined"
      ],
      "metadata": {
        "id": "uU38HM8QN_4m"
      }
    },
    {
      "cell_type": "code",
      "source": [
        "def greet(name) :\n",
        "  print(f\"Good Afternoon{name}\")\n",
        "\n",
        "greet(\"Aerospace\")\n",
        "\n",
        "\n",
        "def greet1(name , title = \"CHIP\"):\n",
        "  print(f\"Hello Coder {name} {title}\")\n",
        "\n",
        "greet1(\"Aerosapce\", 'Prog')"
      ],
      "metadata": {
        "colab": {
          "base_uri": "https://localhost:8080/"
        },
        "id": "QII0iqCcODTF",
        "outputId": "8b807001-fe5a-4654-ea9d-74cb5d820772"
      },
      "execution_count": null,
      "outputs": [
        {
          "output_type": "stream",
          "name": "stdout",
          "text": [
            "Good AfternoonAerospace\n",
            "Hello Coder Aerosapce Prog\n"
          ]
        }
      ]
    },
    {
      "cell_type": "code",
      "source": [
        "def func1(val):\n",
        "  return val\n",
        "\n",
        "func1(12)"
      ],
      "metadata": {
        "colab": {
          "base_uri": "https://localhost:8080/"
        },
        "id": "EGS0DmDfRIW4",
        "outputId": "3c055a7a-5836-4129-ee6f-d1d06b8d126f"
      },
      "execution_count": null,
      "outputs": [
        {
          "output_type": "execute_result",
          "data": {
            "text/plain": [
              "12"
            ]
          },
          "metadata": {},
          "execution_count": 15
        }
      ]
    },
    {
      "cell_type": "markdown",
      "source": [
        "Recursion Example for function\n"
      ],
      "metadata": {
        "id": "dHvlM4-rR6g_"
      }
    },
    {
      "cell_type": "code",
      "source": [
        "def fact (n) :\n",
        "  if(n == 1 or n == 0):\n",
        "    return 1\n",
        "\n",
        "  return n * fact(n-1)\n",
        "\n",
        "print(fact(5))"
      ],
      "metadata": {
        "colab": {
          "base_uri": "https://localhost:8080/"
        },
        "id": "yNYxuy-rR-Zv",
        "outputId": "b452afe3-5889-4eb6-9b01-ac2f0bb4cefb"
      },
      "execution_count": null,
      "outputs": [
        {
          "output_type": "stream",
          "name": "stdout",
          "text": [
            "120\n"
          ]
        }
      ]
    },
    {
      "cell_type": "markdown",
      "metadata": {
        "id": "970dfa38"
      },
      "source": [
        "# **Collections**\n",
        "\n",
        "Collections in Python are containers that are used to store collections of data. They are a fundamental part of Python and are used extensively in programming. Python offers several built-in collection types, each with its own characteristics and use cases.\n",
        "\n",
        "**Key Built-in Collection Types:**\n",
        "\n",
        "1.  **Lists (`list`)**:\n",
        "    *   Ordered, mutable (changeable) sequence of elements.\n",
        "    *   Elements are enclosed in square brackets `[]`.\n",
        "    *   Can contain elements of different data types.\n",
        "    *   Supports indexing and slicing.\n",
        "    *   Examples: `[1, 2, 3]`, `['apple', 'banana', 'cherry']`\n",
        "\n",
        "2.  **Tuples (`tuple`)**:\n",
        "    *   Ordered, immutable (unchangeable) sequence of elements.\n",
        "    *   Elements are enclosed in parentheses `()`.\n",
        "    *   Can contain elements of different data types.\n",
        "    *   Supports indexing and slicing.\n",
        "    *   Often used for heterogeneous data (different types) and when the sequence of elements is fixed.\n",
        "    *   Examples: `(1, 2, 3)`, `('apple', 'banana')`\n",
        "\n",
        "3.  **Sets (`set`)**:\n",
        "    *   Unordered collection of unique elements.\n",
        "    *   Elements are enclosed in curly braces `{}` (except for an empty set, which is created using `set()`).\n",
        "    *   Does not support indexing or slicing.\n",
        "    *   Useful for membership testing, removing duplicates, and performing mathematical set operations (union, intersection, difference).\n",
        "    *   Examples: `{1, 2, 3}`, `{'apple', 'banana'}`\n",
        "\n",
        "4.  **Dictionaries (`dict`)**:\n",
        "    *   Unordered collection of key-value pairs.\n",
        "    *   Key-value pairs are enclosed in curly braces `{}`.\n",
        "    *   Keys must be unique and immutable (like strings, numbers, or tuples).\n",
        "    *   Values can be of any data type.\n",
        "    *   Used to store data in a key-value format for efficient lookup.\n",
        "    *   Examples: `{'name': 'John', 'age': 30}`, `{'a': 1, 'b': 2}`\n",
        "\n",
        "Understanding these collection types and their differences is crucial for writing efficient and effective Python code."
      ]
    },
    {
      "cell_type": "markdown",
      "source": [
        "**List**"
      ],
      "metadata": {
        "id": "ENlKOA9vUp_Q"
      }
    },
    {
      "cell_type": "code",
      "source": [
        "#List - Mutable and indexing maintained\n",
        "\n",
        "list = [1,2,\"hello\",3,4,5,True , False , None , \"hi\" , 1.2]\n",
        "\n",
        "#Get Element by indexing\n",
        "print(list[1])\n",
        "#Print Whole list\n",
        "print(list)\n",
        "#List Iterator\n",
        "for i in list:\n",
        "  print(i)\n",
        "\n",
        "# Slicing in list\n",
        "print(list[0:4])\n",
        "print(list[::2])\n",
        "print(list[::4])\n",
        "\n",
        "#Functions in list\n",
        "list1 = [1,232,453,6,4,32,97]\n",
        "\n",
        "list1.sort()\n",
        "print(list1)\n",
        "\n",
        "list1.reverse()\n",
        "print(list1)\n",
        "\n",
        "list1.append(20)\n",
        "print(list1)\n",
        "\n",
        "list1.insert(3,47)\n",
        "print(list1)\n",
        "\n",
        "list1.index(32)\n",
        "\n",
        "list1.pop(3)\n",
        "print(list1)\n",
        "\n",
        "list1.remove(453)\n",
        "print(list1)\n",
        "\n",
        "\"\"\"\n",
        "Features of List :\n",
        "ordered collection of elements\n",
        "heterogenours data\n",
        "mutable\n",
        "indexing/slicing\n",
        "allow duplicates\n",
        "nested list allowed\n",
        "itetrable\n",
        "non - hashable\n",
        "\n",
        "\"\"\""
      ],
      "metadata": {
        "colab": {
          "base_uri": "https://localhost:8080/"
        },
        "id": "pnPox044TTGA",
        "outputId": "d9a09609-55c5-4536-f7b1-50716b90e17b"
      },
      "execution_count": null,
      "outputs": [
        {
          "output_type": "stream",
          "name": "stdout",
          "text": [
            "2\n",
            "[1, 2, 'hello', 3, 4, 5, True, False, None, 'hi', 1.2]\n",
            "1\n",
            "2\n",
            "hello\n",
            "3\n",
            "4\n",
            "5\n",
            "True\n",
            "False\n",
            "None\n",
            "hi\n",
            "1.2\n",
            "[1, 2, 'hello', 3]\n",
            "[1, 'hello', 4, True, None, 1.2]\n",
            "[1, 4, None]\n",
            "[1, 4, 6, 32, 97, 232, 453]\n",
            "[453, 232, 97, 32, 6, 4, 1]\n",
            "[453, 232, 97, 32, 6, 4, 1, 20]\n",
            "[453, 232, 97, 47, 32, 6, 4, 1, 20]\n",
            "[453, 232, 97, 32, 6, 4, 1, 20]\n",
            "[232, 97, 32, 6, 4, 1, 20]\n"
          ]
        }
      ]
    },
    {
      "cell_type": "code",
      "source": [
        "listexample = [1,2,3,4,5,6,70]\n",
        "def add(listexample):\n",
        "  sum = 0\n",
        "  for i in listexample:\n",
        "    sum = sum + i\n",
        "  return sum\n",
        "\n",
        "print(add(listexample))"
      ],
      "metadata": {
        "colab": {
          "base_uri": "https://localhost:8080/"
        },
        "id": "7TEwP2XHY6mp",
        "outputId": "f028bebd-9c43-4115-90aa-a88ec2ca0487"
      },
      "execution_count": null,
      "outputs": [
        {
          "output_type": "stream",
          "name": "stdout",
          "text": [
            "91\n"
          ]
        }
      ]
    }
  ]
}